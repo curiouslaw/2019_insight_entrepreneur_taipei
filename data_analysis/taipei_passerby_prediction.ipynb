{
 "cells": [
  {
   "cell_type": "markdown",
   "metadata": {
    "hideCode": true,
    "hidePrompt": true
   },
   "source": [
    "# Taipei Passerby Prediction\n",
    "We would like to know the market size / demand. With that in mind, we would use the number of passerby as one of the factor (later would be combined with the people buying power). To estimate that, the data we would use is:\n",
    "\n",
    "- **Taipei MRT passenger data from [gov public data site](https://data.gov.tw/).** 2 years of Taipei MRT data that show how many passenger come and go in MRT station on hourly basis.\n",
    "\n",
    "The way we derive passerby from the data are:\n",
    "\n",
    "- **Try represent MRT for starting activities only.** We will limit the scope of the data to early hour only. \n",
    "- **Simulate walking distance on MRT passenger.** We would try to heuristically simulate the movement of the people there\n",
    "- **Aggregate the passerby on village level detail.** We would aggregate the data into village level for analysis usage."
   ]
  },
  {
   "cell_type": "code",
   "execution_count": null,
   "metadata": {
    "hideCode": true,
    "hidePrompt": true
   },
   "outputs": [],
   "source": [
    "# initial setup, import packages, path, and config\n",
    "import json\n",
    "import os\n",
    "\n",
    "import numpy as np\n",
    "import pandas as pd\n",
    "import geopandas as gpd\n",
    "import plotly.express as px\n",
    "import plotly.graph_objects as go\n",
    "import plotly.io as pio\n",
    "from shapely.geometry import MultiPoint\n",
    "pd.options.mode.chained_assignment = None  # not show dataframe copy slice warning\n",
    "pio.renderers.default = 'png'\n",
    "\n",
    "import dask\n",
    "import dask.dataframe as dd\n",
    "from datetime import datetime\n",
    "from dask.distributed import Client, LocalCluster\n",
    "\n",
    "from lib import shared_lib\n",
    "from shared_lib import data_processor\n",
    "from data_processor.lib.geocoding import GeoCoder\n",
    "from data_processor.lib.geolib_helper import get_shp_filepath, load_normalize_gov_shp_data\n",
    "\n",
    "from lib.plotly_helper import add_chart_title, add_chart_annotation\n",
    "from lib.display_helper import display_df\n",
    "\n",
    "# dask config\n",
    "cluster = LocalCluster(\n",
    "#     n_workers=os.cpu_count()  # this is if you want to setup number of dask worker\n",
    ")\n",
    "client = Client(cluster)\n",
    "\n",
    "# setup path\n",
    "ANALYSIS_NAME = 'taipei_passerby_prediction'\n",
    "\n",
    "CURRENT_DIR = os.path.dirname(os.path.abspath('__file__'))\n",
    "BASE_DIR = os.path.dirname(CURRENT_DIR)\n",
    "ANALYSIS_DIR = os.path.join(BASE_DIR, 'analysis', ANALYSIS_NAME)\n",
    "\n",
    "plotly_default_config_chart = dict(\n",
    "    displayModeBar=True,\n",
    "    responsive=False,\n",
    "    modeBarButtonsToRemove=['zoomIn2d', 'zoomOut2d', 'select2d', 'lasso2d', 'toggleSpikelines'],\n",
    "    displaylogo=False\n",
    ")\n",
    "\n",
    "plotly_default_config_geo = dict(\n",
    "    displayModeBar=True,\n",
    "    responsive=False,\n",
    "    scrollZoom=False,\n",
    "    modeBarButtonsToRemove=['select2d', 'lasso2d'])"
   ]
  },
  {
   "cell_type": "markdown",
   "metadata": {
    "hideCode": true,
    "hidePrompt": true
   },
   "source": [
    "## Use only specific hours to estimate passerby number\n",
    "To get the passenger data, we would use the traffic which accounted for the people that would start their activities only. So we would exclude the number of people that would use the MRT to end their day (i.e. go home, etc). Therefore we would determine the hour we want to take on.\n",
    "\n",
    "We would check the hour based on people activities, some of our consideration include:\n",
    "- **Average peak hour for going to work**, we don't want to set the hour befire this time.\n",
    "\n",
    "To make and confirm out hypothesis, we would do\n",
    "- **Get hourly average number of people that use MRT per hour.** We would split based on weekdays and weekend"
   ]
  },
  {
   "cell_type": "code",
   "execution_count": null,
   "metadata": {
    "hideCode": true,
    "hidePrompt": true
   },
   "outputs": [],
   "source": [
    "# setup data source:\n",
    "# - taipei mrt passenger data -> taipei_mrt_info\n",
    "data_warehouse_dir = os.path.join(BASE_DIR, 'data', 'normalized-data_warehouse')\n",
    "taipei_mrt_info_dirpath = os.path.join(data_warehouse_dir, 'taipei_mrt_info')\n",
    "taipei_mrt_info_urlpath = os.path.join(taipei_mrt_info_dirpath, 'taipei_mrt_passenger_data_*.csv')\n",
    "\n",
    "source_df = dd.read_csv(\n",
    "    taipei_mrt_info_urlpath,\n",
    "    parse_dates=['date'],\n",
    "    infer_datetime_format='%Y-%m-%d'\n",
    ")"
   ]
  },
  {
   "cell_type": "markdown",
   "metadata": {
    "hideCode": true,
    "hidePrompt": true
   },
   "source": [
    "### Get hourly average number\n",
    "Aggregate hourly MRT passenger, split by weekdays and weekend."
   ]
  },
  {
   "cell_type": "code",
   "execution_count": null,
   "metadata": {
    "hideCode": true,
    "hidePrompt": true
   },
   "outputs": [],
   "source": [
    "# process the data\n",
    "df = source_df\n",
    "\n",
    "agg_df = df\\\n",
    "    .groupby(['date','time_period'])['person_times'].sum()\\\n",
    "    .reset_index()\n",
    "\n",
    "agg_df['isoweekday_num'] = agg_df['date'].apply(lambda x: x.isoweekday(), meta=int)\n",
    "agg_df['mon_to_friday'] = agg_df['isoweekday_num'].apply(lambda x: 1 if x <= 5 else 0, meta=int)\n",
    "\n",
    "agg_df = agg_df\\\n",
    "    .groupby(['mon_to_friday', 'time_period'])['person_times'].mean()\\\n",
    "    .reset_index()\n",
    "\n",
    "taipei_mrt_hourly_weekdays_weekend_average = agg_df.compute()\n",
    "\n",
    "# data sample\n",
    "display_df(taipei_mrt_hourly_weekdays_weekend_average)"
   ]
  },
  {
   "cell_type": "markdown",
   "metadata": {
    "hideCode": true,
    "hidePrompt": true
   },
   "source": [
    "### Data visualization\n",
    "Here is how the data looks like."
   ]
  },
  {
   "cell_type": "code",
   "execution_count": null,
   "metadata": {
    "hideCode": true,
    "hidePrompt": true
   },
   "outputs": [],
   "source": [
    "# plot the graph\n",
    "fig = px.line(taipei_mrt_hourly_weekdays_weekend_average,\n",
    "              x='time_period',\n",
    "              y='person_times',\n",
    "              color='mon_to_friday')\n",
    "\n",
    "fig.update_traces(mode='markers+lines', hovertemplate='%{y}')\n",
    "\n",
    "fig.for_each_trace(\n",
    "    lambda data: data.update(\n",
    "        name={\n",
    "            '0':'Weekend (Sat-Sun)',\n",
    "            '1':\"Weekday (Mon-Fri)\"\n",
    "        }.get(data.name)\n",
    "))\n",
    "\n",
    "fig.update_layout(dict(\n",
    "                    legend_title_text='Day Type',\n",
    "                    hovermode='x'))\n",
    "\n",
    "fig.update_xaxes(title='Time (hour)', fixedrange=True, range=[0,23])\n",
    "fig.update_yaxes(title='Average People', fixedrange=True)\n",
    "\n",
    "add_chart_title(fig, 'Hourly average of MRT user')\n",
    "\n",
    "# set hour and anotation\n",
    "set_hour = (6,11)\n",
    "\n",
    "# peak hour annotation\n",
    "fig.add_annotation(xref='x', x=8, yref='y', y=245500,\n",
    "                   text='peak hour to put attention on', font_color='grey',\n",
    "                   bgcolor='white', bordercolor='grey',\n",
    "                   arrowcolor='grey', arrowhead=2)\n",
    "\n",
    "# start hour annotation\n",
    "fig.add_annotation(xref='x', x=6, yref='y', y=30000,\n",
    "                   text='start operational<br> hour - 6AM', font_color='grey',\n",
    "                   bgcolor='white', bordercolor='grey',\n",
    "                   xanchor='right', arrowcolor='grey', arrowhead=2, ay=-100, ax=-30)\n",
    "\n",
    "# used data annotation\n",
    "fig.add_shape(type='rect',\n",
    "              xref='x', x0=set_hour[0], x1=set_hour[1], yref='paper', y0=0, y1=1,\n",
    "              fillcolor='grey', opacity=0.1, line_width=0)\n",
    "\n",
    "fig.add_shape(type='rect',\n",
    "              xref='x', x0=set_hour[0], x1=set_hour[1], yref='paper', y0=0, y1=1,\n",
    "              line_color='black')\n",
    "\n",
    "fig.add_annotation(xref='x', x=11, yref='paper', y=0.8,\n",
    "                   text='used data<br>to estimate passerby<br>from {} to {}'.format(\n",
    "                       set_hour[0], set_hour[1]), align='left', font_color='black',\n",
    "                   xanchor='left', ax=20, ay=0)\n",
    "\n",
    "fig.update_layout(title='Passenger on 6-11 would would be used to simulate passerby',\n",
    "                  width=800, height=400)\n",
    "\n",
    "fig.show(config=plotly_default_config_chart)\n",
    "fig.write_image(os.path.join(ANALYSIS_DIR, 'used_hour.png'))"
   ]
  },
  {
   "cell_type": "markdown",
   "metadata": {
    "hideCode": true,
    "hidePrompt": true,
    "toc-hr-collapsed": true,
    "toc-nb-collapsed": true
   },
   "source": [
    "### Conclusion\n",
    "To estimate passerby number or other stuff, we would use MRT data only in **6 until 11**"
   ]
  },
  {
   "cell_type": "markdown",
   "metadata": {
    "hideCode": true,
    "hidePrompt": true
   },
   "source": [
    "## Set radius on passenger walk distance\n",
    "As people would also move around, therefore we try to simulate their movement. In this analysis we heuristically try to simulate their movement with:\n",
    "\n",
    "- **Set walking radius.**\n",
    "- **Create a probability distribution formula.**"
   ]
  },
  {
   "cell_type": "code",
   "execution_count": null,
   "metadata": {
    "hideCode": true,
    "hidePrompt": true
   },
   "outputs": [],
   "source": [
    "# setup data source:\n",
    "# - taipei area data, village detail\n",
    "village_shp_path = get_shp_filepath(os.path.join(BASE_DIR, 'data', 'taiwan_twd97_map_data_village'))\n",
    "village_gpd = load_normalize_gov_shp_data(village_shp_path)\n",
    "\n",
    "taipei_village_gpd = village_gpd[village_gpd['county_chinese_name'] == '臺北市']\n",
    "taipei_village_gpd.set_index('village_code', drop=False, inplace=True)\n",
    "\n",
    "# - taipei mrt data coordinate\n",
    "taipei_mrt_coordinate_data_dir = os.path.join(BASE_DIR, 'data', 'taipei_mrt_map_coordinate')\n",
    "taipei_mrt_map_coordinate_filepath = os.path.join(\n",
    "    taipei_mrt_coordinate_data_dir, 'structured','taipei_mrt_map_coordinate.csv'\n",
    ")"
   ]
  },
  {
   "cell_type": "markdown",
   "metadata": {
    "hideCode": true,
    "hidePrompt": true
   },
   "source": [
    "### Data visualization\n",
    "Here is the maximum radius of 30 min walks (2 km) looks like."
   ]
  },
  {
   "cell_type": "code",
   "execution_count": null,
   "metadata": {
    "hideCode": true,
    "hidePrompt": true
   },
   "outputs": [],
   "source": [
    "# prepare are data\n",
    "taipei_village_geojson = json.loads(taipei_village_gpd.geometry.to_json())\n",
    "\n",
    "center_point = MultiPoint(taipei_village_gpd['geometry'].apply(lambda x: x.centroid)).centroid\n",
    "\n",
    "# get location of the MRT station\n",
    "taipei_mrt_map_df = pd.read_csv(taipei_mrt_map_coordinate_filepath)\n",
    "taipei_mrt_map_df['village_code'] = taipei_mrt_map_df['village_code'].apply(str)\n",
    "taipei_mrt_map_df = gpd.GeoDataFrame(\n",
    "    pd.merge(taipei_mrt_map_df, village_gpd[['village_code', 'geometry']],\n",
    "    how='left', on='village_code'\n",
    "))\n",
    "\n",
    "taipei_mrt_map_df.set_index('village_code', drop=False, inplace=True)\n",
    "\n",
    "taipei_mrt_map_df['centroid'] = taipei_mrt_map_df['geometry'].apply(lambda x: x.centroid)"
   ]
  },
  {
   "cell_type": "code",
   "execution_count": null,
   "metadata": {
    "hideCode": true,
    "hidePrompt": true
   },
   "outputs": [],
   "source": [
    "# plot the main graph\n",
    "fig = px.choropleth_mapbox(taipei_village_gpd, geojson=taipei_village_geojson,\n",
    "                           locations='village_code',\n",
    "                           hover_name='village_english_name',\n",
    "                           hover_data=['village_chinese_name', 'township_chinese_name'],\n",
    "                           labels={'village_chinese_name': 'Village Chinese Name',\n",
    "                                   'township_chinese_name': 'Township Chinese Name'},\n",
    "                           opacity=0.3,\n",
    "                           mapbox_style='carto-positron',\n",
    "                           center={'lon':center_point.x, 'lat':center_point.y},\n",
    "                           zoom=10)\n",
    "\n",
    "\n",
    "fig.update_traces(dict(\n",
    "                    name='Taipei area',\n",
    "                    hovertemplate=fig['data'][-1]['hovertemplate']\\\n",
    "                        .replace('<br>village_code=%{location}<br>','')\\\n",
    "                        .replace('=', ' = ')))\n",
    "\n",
    "add_chart_title(fig, 'Walking area radius for Taipei MRT passenger', 1.2)\n",
    "\n",
    "add_chart_annotation(fig, \n",
    "                     '<i>*do double click on map to reset position back to Taipei, '\n",
    "                     'zoom in / out with the button in the top right</i>')\n",
    "\n",
    "radius_in_km = 2\n",
    "\n",
    "taipei_mrt_map_df['centroid_circle'] = \\\n",
    "    taipei_mrt_map_df['centroid']\\\n",
    "    .apply(lambda x: x.buffer(radius_in_km / 111, resolution=3)\n",
    ")\n",
    "\n",
    "taipei_mrt_map_centroid_geojson = json.loads(taipei_mrt_map_df['centroid'].to_json())\n",
    "taipei_mrt_map_centroid_circle_geojson = json.loads(taipei_mrt_map_df['centroid_circle'].to_json())\n",
    "\n",
    "fig.add_trace(go.Choroplethmapbox(\n",
    "                name='Passenger walk radius<br>({}km)'.format(radius_in_km),\n",
    "                geojson=taipei_mrt_map_centroid_circle_geojson,\n",
    "                locations=taipei_mrt_map_df['village_code'],\n",
    "                z=[1]*len(taipei_mrt_map_df), colorscale=[[0,'orange'],[1,'orange']],\n",
    "                marker=dict(\n",
    "                    opacity=0.1\n",
    "                ),\n",
    "                customdata=taipei_mrt_map_df['station_name'],\n",
    "                hovertemplate='Station Chinese Name = %{customdata}',\n",
    "                showlegend=True, showscale=False, ))\n",
    "\n",
    "fig.add_trace(go.Scattermapbox(\n",
    "                name='MRT station',\n",
    "                lon=taipei_mrt_map_df['centroid'].apply(lambda x: x.x),\n",
    "                lat=taipei_mrt_map_df['centroid'].apply(lambda x: x.y),\n",
    "                marker=dict(\n",
    "                  color='red',\n",
    "                  size=3,\n",
    "                  sizemode='area'\n",
    "                ),\n",
    "                customdata=taipei_mrt_map_df['station_name'],\n",
    "                hovertemplate='Station Chinese Name = %{customdata}'))\n",
    "\n",
    "fig.update_layout(dict(\n",
    "    legend={'traceorder': 'reversed'}\n",
    "))\n",
    "\n",
    "fig.update_layout(dict(\n",
    "    title=dict(\n",
    "        text=\"Use walking distance of 2 km (30 min walk),<br>\"\n",
    "        \"  the passerby simulation won't cover all taipei area\",\n",
    "        yanchor='top',\n",
    "        yref='container', y=0.9,\n",
    "    ),\n",
    "    margin={'t':150},\n",
    "    height=700\n",
    "))\n",
    "\n",
    "\n",
    "# fig.show(config=plotly_default_config_geo)\n",
    "fig.show(config=plotly_default_config_geo)\n",
    "fig.write_image(os.path.join(ANALYSIS_DIR, 'walking_radius.png'))"
   ]
  },
  {
   "cell_type": "markdown",
   "metadata": {
    "hideCode": true,
    "hidePrompt": true
   },
   "source": [
    "### Distribution Formula\n",
    "We would use the 2 km radius, which still possible (30 mins walks), even it is limited to some area. But we would create a really steep distribution function.\n",
    "\n",
    "The distribution formula is based on:\n",
    "\n",
    "- previous maximum determined radius, 2 km\n",
    "- use quadratic from about this heuristic logic $f(0)=1$, $f(2)=0$, $f(0.3)=0.7$, $f(1)=0.2$ that limit x from 0-2 with minimum value of 0 and maximum value of 1:\n",
    "\n",
    "Therefore, the distribution value that we get is:\n",
    "\\begin{align}\n",
    "f(x) &= \\frac{3x^2}{10} - \\frac{17x}{6} +1\n",
    "\\end{align}\n",
    "\n",
    "with result no more than 1 or less than 0\n",
    "\n",
    "The probability function would less likely to pass 1 km. Here is how the distribution looks like."
   ]
  },
  {
   "cell_type": "code",
   "execution_count": null,
   "metadata": {
    "hideCode": true,
    "hidePrompt": true
   },
   "outputs": [],
   "source": [
    "# simulating the graph\n",
    "def distribution_function(x):\n",
    "    if x > 2:\n",
    "        return 0\n",
    "    elif x <= 0:\n",
    "        return 1\n",
    "    else:\n",
    "        fx = (3*(pow(x,2))/10) - ((7*x)/6) + 1.14\n",
    "        if fx > 1:\n",
    "            return 1\n",
    "        elif fx < 0:\n",
    "            return 0\n",
    "        else:\n",
    "            return fx\n",
    "    \n",
    "graph_x = np.linspace(0,3,100)\n",
    "graph_y = [distribution_function(x) for x in graph_x]\n",
    "\n",
    "fig = px.line(x=graph_x, y=graph_y)\n",
    "\n",
    "add_chart_title(fig, 'The graph of the distribution function')\n",
    "\n",
    "fig.show(config=plotly_default_config_chart)\n",
    "fig.write_image(os.path.join(ANALYSIS_DIR, 'distribution_function.png'))"
   ]
  },
  {
   "cell_type": "markdown",
   "metadata": {
    "hideCode": true,
    "hidePrompt": true
   },
   "source": [
    "## Predicting population passerby number\n",
    "From the previous analysis, we would need to translate the sample data into the real / population data. Therefore we would do:\n",
    "\n",
    "- **Get population / sample data ratio.** We would make a sample-to-population multiplier for it.\n",
    "- **Put data into walking simulation formula.** We fit the data into the previous movement formula."
   ]
  },
  {
   "cell_type": "code",
   "execution_count": null,
   "metadata": {
    "hideCode": true,
    "hidePrompt": true
   },
   "outputs": [],
   "source": [
    "# setup save path\n",
    "data_mart_dir = os.path.join(BASE_DIR, 'data', 'aggregated-data_mart')\n",
    "\n",
    "save_taipei_passerby_prediction_filepath = os.path.join(data_mart_dir, 'taipei_passerby_prediction.csv')\n",
    "\n",
    "# setup the data source:\n",
    "data_warehouse_dir = os.path.join(BASE_DIR, 'data', 'normalized-data_warehouse')\n",
    "\n",
    "# - area dimension table\n",
    "area_dimension_table = pd.read_csv('../data/normalized-data_warehouse/area_dimension_table.csv')\n",
    "area_dimension_table = area_dimension_table.astype({'village_code':str})\n",
    "area_dimension_table.set_index('village_code', inplace=True)\n",
    "\n",
    "# - taipei area data, village detail\n",
    "village_shp_path = get_shp_filepath(os.path.join(BASE_DIR, 'data', 'taiwan_twd97_map_data_village'))\n",
    "village_gpd = load_normalize_gov_shp_data(village_shp_path)\n",
    "\n",
    "taipei_village_gpd = village_gpd[village_gpd['county_chinese_name'] == '臺北市']\n",
    "taipei_village_gpd.set_index('village_code', drop=False, inplace=True)\n",
    "\n",
    "taipei_village_gpd = pd.merge(\n",
    "    taipei_village_gpd, area_dimension_table[['township_english_name']],\n",
    "    left_index=True, right_index=True\n",
    ")\n",
    "\n",
    "# - taipei mrt passenger data -> taipei_mrt_info\n",
    "taipei_mrt_info_dirpath = os.path.join(data_warehouse_dir, 'taipei_mrt_info')\n",
    "taipei_mrt_info_urlpath = os.path.join(taipei_mrt_info_dirpath, 'taipei_mrt_passenger_data_*.csv')\n",
    "\n",
    "source_df = dd.read_csv(taipei_mrt_info_urlpath)\n",
    "\n",
    "# - taipei village distance matrix\n",
    "taipei_village_distance_matrix_filepath =\\\n",
    "    os.path.join(data_warehouse_dir, 'taipei_village_centroid_distance_km_matrix.csv')\n",
    "taipei_village_distance_matrix_df = pd.read_csv(taipei_village_distance_matrix_filepath)\n",
    "taipei_village_distance_matrix_df.set_index('village_code', inplace=True)"
   ]
  },
  {
   "cell_type": "markdown",
   "metadata": {
    "hideCode": true,
    "hidePrompt": true
   },
   "source": [
    "### Population / sample data ratio\n",
    "\n",
    "We use this fact:\n",
    "\n",
    "- [Goverment data](https://english.gov.taipei/News_Content.aspx?n=ADAE9018C6CFA1FE&s=E62708BF6A355A23) in show that in 2019, the public transportation usage in Taipei was 49.4%\n",
    "- [Goverment data](https://english.gov.taipei/cp.aspx?n=C619997124A6D293) show that Taipei population in 2016 was 2,695,704 people\n",
    "- [Goverment data](https://english.gov.taipei/cp.aspx?n=C619997124A6D293) show that Taipei aging population (above 65) in 2016 was 419,130\n",
    "\n",
    "Therefore, we would use the current sample (taipei MRT data) to predict the population using the fact. We would use this assumption:\n",
    "\n",
    "- Current MRT data distribution represent at least 80% overall Taipei people activities\n",
    "- Ignore the 20% unrepresented population passerby\n",
    "- Aging population would not having any activities at all (use for reducing overall passerby number)\n",
    "\n",
    "\\begin{align}\n",
    "    \\textit{sample-to-population multiplier} &= \\frac{(\\textit{Taipei population} * 0.8) - \\textit{Taipei elderly population}}{\\textit{Total sample data}}\\\\\n",
    "\\end{align}\n",
    "\n",
    "The calculation on cell below would show the result is 2.75. Therefore we would use the multiplier 2.75 to predict passerby (population) data."
   ]
  },
  {
   "cell_type": "code",
   "execution_count": null,
   "metadata": {
    "hideCode": true,
    "hidePrompt": true
   },
   "outputs": [],
   "source": [
    "df = source_df\n",
    "\n",
    "df = source_df\n",
    "df = df[(df['time_period'] >= 6) & (df['time_period'] <= 11)]\n",
    "\n",
    "df_agg = df.groupby(['station_out_village_code', 'date'])['person_times'].sum()\\\n",
    "    .reset_index()\n",
    "\n",
    "df_agg = df_agg.groupby('station_out_village_code')['person_times'].mean()\\\n",
    "    .reset_index()\n",
    "\n",
    "taipei_daily_passerby_per_village = df_agg.compute()\n",
    "taipei_daily_passerby_per_village.set_index('station_out_village_code', inplace=True)\n",
    "\n",
    "total_daily_average_mrt_passenger = taipei_daily_passerby_per_village['person_times'].sum()\n",
    "\n",
    "sample_to_population_multiplier = 2.75"
   ]
  },
  {
   "cell_type": "markdown",
   "metadata": {
    "hideCode": true,
    "hidePrompt": true
   },
   "source": [
    "### Movement / walking simulation\n",
    "Based on previous part, we would use this distribution formula:\n",
    "the distribution value that we get is:\n",
    "\\begin{align}\n",
    "f(x) &= \\frac{3x^2}{10} - \\frac{17x}{6} +1\n",
    "\\end{align}\n",
    "\n",
    "with result no more than 1 or less than 0"
   ]
  },
  {
   "cell_type": "code",
   "execution_count": null,
   "metadata": {
    "hideCode": true,
    "hidePrompt": true
   },
   "outputs": [],
   "source": [
    "# calculate simulation using the formula\n",
    "taipei_village_distance_matrix_df = taipei_village_distance_matrix_df\\\n",
    "    .applymap(lambda x: distribution_function(x))\n",
    "\n",
    "taipei_daily_passerby_per_village_dict =\\\n",
    "    taipei_daily_passerby_per_village['person_times'].to_dict()\n",
    "\n",
    "simulated_passerby_number_dict = {}\n",
    "for index, row in taipei_village_distance_matrix_df.iterrows():\n",
    "    if index in taipei_daily_passerby_per_village_dict:\n",
    "        _distributed_passenger = \\\n",
    "            (row * float(taipei_daily_passerby_per_village_dict.get(index))).to_dict()\n",
    "        simulated_passerby_number_dict = {**simulated_passerby_number_dict,\n",
    "                                          **{index: _distributed_passenger}}\n",
    "\n",
    "taipei_simulated_passerby_df = \\\n",
    "    pd.DataFrame.from_dict(simulated_passerby_number_dict, orient='index')\n",
    "taipei_simulated_passerby_df = taipei_simulated_passerby_df.apply(sum)\n",
    "\n",
    "taipei_simulated_passerby_dict = taipei_simulated_passerby_df.to_dict()\n",
    "\n",
    "# predict population data with sample to population multiplier\n",
    "taipei_simulated_passerby_dict = \\\n",
    "    {k:sample_to_population_multiplier * v for k, v in taipei_simulated_passerby_dict.items()}\n",
    "\n",
    "taipei_village_gpd['simulated_passerby'] = taipei_village_gpd['village_code']\\\n",
    "    .apply(lambda x: taipei_simulated_passerby_dict.get(x))"
   ]
  },
  {
   "cell_type": "markdown",
   "metadata": {
    "hideCode": true,
    "hidePrompt": true
   },
   "source": [
    "### Data visualization\n",
    "Here how is the data looks like."
   ]
  },
  {
   "cell_type": "code",
   "execution_count": null,
   "metadata": {
    "hideCode": true,
    "hidePrompt": true
   },
   "outputs": [],
   "source": [
    "# prepare the geojson data\n",
    "taipei_village_geojson = json.loads(taipei_village_gpd.geometry.to_json())\n",
    "center_point = MultiPoint(taipei_village_gpd['geometry'].apply(lambda x: x.centroid)).centroid\n",
    "\n",
    "taipei_township_passerby_agg = taipei_village_gpd.groupby(['township_code', 'township_english_name'])['simulated_passerby'].sum().reset_index()\n",
    "\n",
    "taipei_township_passerby_agg.sort_values('simulated_passerby', ascending=False, inplace=True)\n",
    "\n",
    "save_df = taipei_village_gpd.loc[:, taipei_village_gpd.columns != 'geometry']\n",
    "save_df.to_csv(save_taipei_passerby_prediction_filepath, index=False)"
   ]
  },
  {
   "cell_type": "code",
   "execution_count": null,
   "metadata": {
    "hideCode": true,
    "hidePrompt": true
   },
   "outputs": [],
   "source": [
    "# draw first chart the map\n",
    "fig = px.choropleth_mapbox(taipei_village_gpd, geojson=taipei_village_geojson,\n",
    "                           locations='village_code',\n",
    "                           color='simulated_passerby',\n",
    "                           hover_name='village_english_name',\n",
    "                           hover_data=['township_english_name'],\n",
    "                           labels={'township_english_name': 'Township English Name',\n",
    "                                   'simulated_passerby': 'Predicted Passerby'},\n",
    "                           color_continuous_scale='OrRd',\n",
    "                           range_color=(0,150000),\n",
    "                           opacity=0.5,\n",
    "                           mapbox_style='carto-positron',\n",
    "                           center={'lon':center_point.x, 'lat':center_point.y},\n",
    "                           zoom=10)\n",
    "\n",
    "fig.update_traces(hovertemplate=fig['data'][-1]['hovertemplate']\\\n",
    "                  .replace('village_code=%{location}<br>','')\\\n",
    "                  .replace('=',' = ')\\\n",
    "                  .replace('{z}','{z:,.2r}')\n",
    "                 )\n",
    "\n",
    "add_chart_title(fig, \"Taipei color scale map based on simulated passerby number\", 1.2)\n",
    "\n",
    "add_chart_annotation(fig, \n",
    "                     '<i>*do double click on map to reset position back to Taipei, '\n",
    "                     'zoom in / out with the button in the top right</i>')\n",
    "\n",
    "fig.update_layout(\n",
    "    title='Most of passerby are in Taipei mid-west area',\n",
    "    margin={'t':120},\n",
    "    height=700\n",
    ")\n",
    "\n",
    "fig.show(config=plotly_default_config_geo)\n",
    "fig.write_image(os.path.join(ANALYSIS_DIR, 'predicted_passerby_number-1.png'))\n",
    "\n",
    "# draw second chart, top 5 bar chart\n",
    "fig = px.bar(taipei_village_gpd,\n",
    "             x='township_english_name',\n",
    "             y='simulated_passerby',\n",
    "             labels={\n",
    "                 'township_english_name': 'Township English Name',\n",
    "                 'simulated_passerby': 'Predicted Passerby',\n",
    "                 'village_chinese_name': 'Village Chinese Name'\n",
    "             },\n",
    "             color='village_chinese_name')\n",
    "\n",
    "fig.update_traces(hovertemplate=fig['data'][-1]['hovertemplate']\\\n",
    "                  .replace('=',' = ')\\\n",
    "                 )\n",
    "\n",
    "fig.update_traces(marker={'color': 'blue'})\n",
    "                  \n",
    "fig.update_xaxes(categoryorder='array', \n",
    "                 categoryarray=taipei_township_passerby_agg['township_english_name'])\n",
    "\n",
    "fig.update_layout(showlegend=False)\n",
    "fig.update_xaxes(fixedrange=True)\n",
    "fig.update_yaxes(fixedrange=True)\n",
    "\n",
    "add_chart_title(fig, \"Simulated passerby, stacked per township\", 2)\n",
    "\n",
    "fig.add_shape(type='rect',\n",
    "              xref='x', x0=-0.6, x1=4.5, yref='paper', y0=0, y1=1,\n",
    "              line=dict(\n",
    "                  color='orange',\n",
    "                  width=4\n",
    "              ))\n",
    "\n",
    "fig.show(config=plotly_default_config_chart)\n",
    "fig.write_image(os.path.join(ANALYSIS_DIR, 'predicted_passerby_number-2.png'))"
   ]
  },
  {
   "cell_type": "markdown",
   "metadata": {
    "hideCode": true,
    "hidePrompt": true
   },
   "source": [
    "## Analysis\n",
    "Analysis from the information are:\n",
    "\n",
    "- **Most people activities is on Taipei mid-west Area.** They have about 3 times more passerby compare to other area."
   ]
  }
 ],
 "metadata": {
  "hide_code_all_hidden": true,
  "kernelspec": {
   "display_name": "Python 3",
   "language": "python",
   "name": "python3"
  },
  "language_info": {
   "codemirror_mode": {
    "name": "ipython",
    "version": 3
   },
   "file_extension": ".py",
   "mimetype": "text/x-python",
   "name": "python",
   "nbconvert_exporter": "python",
   "pygments_lexer": "ipython3",
   "version": "3.8.5"
  },
  "toc": {
   "base_numbering": 1,
   "nav_menu": {},
   "number_sections": true,
   "sideBar": true,
   "skip_h1_title": false,
   "title_cell": "Table of Contents",
   "title_sidebar": "Contents",
   "toc_cell": false,
   "toc_position": {},
   "toc_section_display": true,
   "toc_window_display": true
  },
  "toc-autonumbering": false,
  "toc-showcode": true,
  "toc-showmarkdowntxt": false,
  "toc-showtags": false,
  "varInspector": {
   "cols": {
    "lenName": 16,
    "lenType": 16,
    "lenVar": 40
   },
   "kernels_config": {
    "python": {
     "delete_cmd_postfix": "",
     "delete_cmd_prefix": "del ",
     "library": "var_list.py",
     "varRefreshCmd": "print(var_dic_list())"
    },
    "r": {
     "delete_cmd_postfix": ") ",
     "delete_cmd_prefix": "rm(",
     "library": "var_list.r",
     "varRefreshCmd": "cat(var_dic_list()) "
    }
   },
   "types_to_exclude": [
    "module",
    "function",
    "builtin_function_or_method",
    "instance",
    "_Feature"
   ],
   "window_display": false
  }
 },
 "nbformat": 4,
 "nbformat_minor": 4
}
