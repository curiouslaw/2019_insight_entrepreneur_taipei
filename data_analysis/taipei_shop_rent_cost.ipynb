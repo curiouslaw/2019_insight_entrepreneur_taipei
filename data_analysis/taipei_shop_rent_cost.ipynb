{
 "cells": [
  {
   "cell_type": "markdown",
   "metadata": {},
   "source": [
    "# Taipei Shop Rent Cost\n",
    "The cost aspect would be one of the things that could be good to consider. In this list, we would use the data we scrape from 591.com (one of the biggest property listing platfrom in Taiwan)."
   ]
  },
  {
   "cell_type": "code",
   "execution_count": null,
   "metadata": {},
   "outputs": [],
   "source": [
    "# initial setup, import packages, path, and config\n",
    "from typing import Any\n",
    "import json\n",
    "import os\n",
    "\n",
    "import pandas as pd\n",
    "import geopandas as gpd\n",
    "import plotly.express as px\n",
    "from shapely.geometry import MultiPoint\n",
    "pd.options.mode.chained_assignment = None  # not show dataframe copy slice warning\n",
    "\n",
    "from lib import shared_lib\n",
    "from shared_lib import data_processor\n",
    "from data_processor.lib.geolib_helper import get_shp_filepath, load_normalize_gov_shp_data\n",
    "\n",
    "from lib.plotly_helper import add_chart_title, add_chart_annotation\n",
    "\n",
    "# setup path\n",
    "ANALYSIS_NAME = 'taipei_shop_rent_cost'\n",
    "\n",
    "CURRENT_DIR = os.path.dirname(os.path.abspath('__file__'))\n",
    "BASE_DIR = os.path.dirname(CURRENT_DIR)\n",
    "ANALYSIS_DIR = os.path.join(BASE_DIR, 'analysis', ANALYSIS_NAME)\n",
    "\n",
    "plotly_default_config_chart = dict(\n",
    "    displayModeBar=True,\n",
    "    responsive=False,\n",
    "    modeBarButtonsToRemove=['zoomIn2d', 'zoomOut2d', 'select2d', 'lasso2d', 'toggleSpikelines'],\n",
    "    displaylogo=False\n",
    ")\n",
    "\n",
    "plotly_default_config_geo = dict(\n",
    "    displayModeBar=True,\n",
    "    responsive=False,\n",
    "    scrollZoom=False,\n",
    "    modeBarButtonsToRemove=['select2d', 'lasso2d'])"
   ]
  },
  {
   "cell_type": "markdown",
   "metadata": {},
   "source": [
    "## Get the average rent price per village\n",
    "We would try to know how expensive each area is. To make things equal, would use the rent cost of 1st floor, store front, and get the price per area (ping)."
   ]
  },
  {
   "cell_type": "code",
   "execution_count": null,
   "metadata": {},
   "outputs": [],
   "source": [
    "# setup output filepath\n",
    "data_dir = os.path.join(BASE_DIR, 'data')\n",
    "data_mart_dir = os.path.join(data_dir, 'aggregated-data_mart')\n",
    "\n",
    "save_taipei_shop_rent_cost_filepath = os.path.join(data_mart_dir, ANALYSIS_NAME+'.csv')\n",
    "\n",
    "# setup data source\n",
    "data_warehouse_dir = os.path.join(data_dir, 'normalized-data_warehouse')\n",
    "\n",
    "# - taipei shop rent price\n",
    "taipei_shop_rent_price_filepath = os.path.join(data_warehouse_dir, 'taipei_shop_rent_price.csv')\n",
    "taipei_shop_rent_price_df = pd.read_csv(taipei_shop_rent_price_filepath)\n",
    "\n",
    "# - area dimension table\n",
    "area_dimension_table = pd.read_csv('../data/normalized-data_warehouse/area_dimension_table.csv')\n",
    "area_dimension_table = area_dimension_table.astype({'village_code':str})\n",
    "area_dimension_table.set_index('village_code', inplace=True)\n",
    "\n",
    "# - taipei area data, village detail\n",
    "village_shp_path = get_shp_filepath(os.path.join(BASE_DIR, 'data', 'taiwan_twd97_map_data_village'))\n",
    "village_gpd = load_normalize_gov_shp_data(village_shp_path)\n",
    "\n",
    "taipei_village_gpd = village_gpd[village_gpd['county_chinese_name'] == '臺北市']\n",
    "taipei_village_gpd.set_index('village_code', drop=False, inplace=True)\n",
    "\n",
    "taipei_village_gpd = pd.merge(\n",
    "    taipei_village_gpd, area_dimension_table[['township_english_name']],\n",
    "    left_index=True, right_index=True\n",
    ")"
   ]
  },
  {
   "cell_type": "markdown",
   "metadata": {},
   "source": [
    "### Calculate the data\n",
    "Calulate the average rent price and average them based on location, on village detail level."
   ]
  },
  {
   "cell_type": "code",
   "execution_count": null,
   "metadata": {},
   "outputs": [],
   "source": [
    "# Calculate Taipei average shop rent (store front, first floor) price per month\n",
    "taipei_shop_rent_price_df = taipei_shop_rent_price_df\\\n",
    "    [taipei_shop_rent_price_df['floorInfo'].apply(lambda x: '1/' in str(x))]\n",
    "\n",
    "taipei_shop_rent_price_df['village_code'] = \\\n",
    "    taipei_shop_rent_price_df['village_code'].apply(lambda x: str(x).split('.')[0])\n",
    "\n",
    "taipei_shop_rent_price_df['price_per_ping'] = \\\n",
    "    taipei_shop_rent_price_df['price'] / taipei_shop_rent_price_df['area']\n",
    "\n",
    "village_area_rent_price_average = taipei_shop_rent_price_df\\\n",
    "    .groupby(['village_code'])['price_per_ping'].mean().to_dict()\n",
    "\n",
    "def dict_helper(lookup_dict: dict, key: Any) -> Any:\n",
    "    if key in lookup_dict:\n",
    "        return lookup_dict.get(key)\n",
    "    else:\n",
    "        return 0\n",
    "    \n",
    "taipei_village_gpd['store_price_per_ping_average'] = \\\n",
    "    taipei_village_gpd['village_code'].apply(lambda x: dict_helper(village_area_rent_price_average, x))"
   ]
  },
  {
   "cell_type": "markdown",
   "metadata": {},
   "source": [
    "### Save and visualize the data\n",
    "Would save and visualize how the data is"
   ]
  },
  {
   "cell_type": "code",
   "execution_count": null,
   "metadata": {},
   "outputs": [],
   "source": [
    "# prepare the geojson data\n",
    "taipei_village_geojson = json.loads(taipei_village_gpd.geometry.to_json())\n",
    "center_point = MultiPoint(taipei_village_gpd['geometry'].apply(lambda x: x.centroid)).centroid\n",
    "\n",
    "save_df = taipei_village_gpd.loc[:, taipei_village_gpd.columns != 'geometry']\n",
    "save_df.to_csv(save_taipei_shop_rent_cost_filepath, index=False)\n",
    "\n",
    "taipei_township_shop_price_agg = taipei_village_gpd.groupby(['township_code', 'township_english_name'])['store_price_per_ping_average'].mean().reset_index()\n",
    "\n",
    "taipei_township_shop_price_agg.sort_values('store_price_per_ping_average', ascending=False, inplace=True)"
   ]
  },
  {
   "cell_type": "code",
   "execution_count": null,
   "metadata": {},
   "outputs": [],
   "source": [
    "# draw first chart the map\n",
    "fig = px.choropleth_mapbox(taipei_village_gpd, geojson=taipei_village_geojson,\n",
    "                           locations='village_code',\n",
    "                           color='store_price_per_ping_average',\n",
    "                           hover_name='village_english_name',\n",
    "                           hover_data=['township_english_name'],\n",
    "                           labels={'township_english_name': 'Township English Name',\n",
    "                                   'store_price_per_ping_average' : 'Average shop rent price / ping'},\n",
    "                           color_continuous_scale='OrRd',\n",
    "                           range_color=(0,7000),\n",
    "                           opacity=0.5,\n",
    "                           mapbox_style='carto-positron',\n",
    "                           center={'lon':center_point.x, 'lat':center_point.y},\n",
    "                           zoom=10)\n",
    "\n",
    "fig.update_traces(hovertemplate=fig['data'][-1]['hovertemplate']\\\n",
    "                  .replace('village_code=%{location}<br>','')\\\n",
    "                  .replace('=',' = ')\\\n",
    "                  .replace('{z}','{z:,.2r}')\n",
    "                 )\n",
    "\n",
    "add_chart_title(fig, \"Taipei color scale map based on simulated passerby number\", 1.2)\n",
    "\n",
    "add_chart_annotation(fig, \n",
    "                     '<i>*do double click on map to reset position back to Taipei, '\n",
    "                     'zoom in / out with the button in the top right</i>')\n",
    "\n",
    "fig.update_layout(\n",
    "    title='Taipei mid-west area have high storefront / shop rent price',\n",
    "    margin={'t':120},\n",
    "    height=700\n",
    ")\n",
    "\n",
    "fig.show(config=plotly_default_config_geo)\n",
    "fig.write_image(os.path.join(ANALYSIS_DIR, 'taipei_shop_rent_price-1.png'))\n",
    "\n",
    "# draw second chart, bar chart of average\n",
    "fig = px.bar(taipei_township_shop_price_agg,\n",
    "             x='township_english_name',\n",
    "             y='store_price_per_ping_average',\n",
    "             labels={'township_english_name': 'Township English Name',\n",
    "                 'store_price_per_ping_average': 'Average shop rent price / ping'},\n",
    "            )\n",
    "\n",
    "fig.update_layout(showlegend=False)\n",
    "fig.update_xaxes(fixedrange=True)\n",
    "fig.update_yaxes(fixedrange=True)\n",
    "\n",
    "add_chart_title(fig, 'Average of store price (per area, on \"ping\" unit)')\n",
    "\n",
    "fig.show(config=plotly_default_config_chart)\n",
    "fig.write_image(os.path.join(ANALYSIS_DIR, 'taipei_shop_rent_price-2.png'))"
   ]
  }
 ],
 "metadata": {
  "kernelspec": {
   "display_name": "Python 3",
   "language": "python",
   "name": "python3"
  },
  "language_info": {
   "codemirror_mode": {
    "name": "ipython",
    "version": 3
   },
   "file_extension": ".py",
   "mimetype": "text/x-python",
   "name": "python",
   "nbconvert_exporter": "python",
   "pygments_lexer": "ipython3",
   "version": "3.8.5"
  }
 },
 "nbformat": 4,
 "nbformat_minor": 4
}
