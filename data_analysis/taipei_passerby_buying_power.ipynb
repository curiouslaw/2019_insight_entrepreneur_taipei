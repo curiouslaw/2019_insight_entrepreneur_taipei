{
 "cells": [
  {
   "cell_type": "markdown",
   "metadata": {
    "hideCode": true,
    "hidePrompt": true
   },
   "source": [
    "# Taipei Passerby Buying Power\n",
    "In order to know more about the total buyer / market size, we would use passerby buying power as one of the factor (later combined with number of passerby / buyer). In determining the buying power, the data we would use are:\n",
    "\n",
    "- **Taiwan 2014 Tax data from [cicadata](https://github.com/cicadatatw/taiwan-income-by-village/tree/master/2014).** We would derive people income from the tax data.\n",
    "- **Taipei budget data from [Taipei news](https://www.taipeitimes.com/News/taiwan/archives/2018/09/04/2003699773).** The information of how much portion people are spending their income for dining out.\n",
    "- **Taipei MRT traffic data from [gov public data site](https://data.gov.tw/).** The number of people that use MRT from and to which station.\n",
    "\n",
    "Then we would use the data with:\n",
    "\n",
    "- **Get average dining out budget of people based on living area.** We would use the data later and make it into the passerby buying power.\n",
    "- **Passerby buying power, based on the activities area.** We would simulate people activities and get the buying power based on the activities area."
   ]
  },
  {
   "cell_type": "code",
   "execution_count": null,
   "metadata": {
    "hideCode": true,
    "hidePrompt": true
   },
   "outputs": [],
   "source": [
    "# initial setup, import packages, path, and config\n",
    "import json\n",
    "import os\n",
    "\n",
    "import pandas as pd\n",
    "import geopandas as gpd\n",
    "import plotly.express as px\n",
    "import plotly.graph_objects as go\n",
    "import plotly.io as pio\n",
    "from shapely.geometry import MultiPoint\n",
    "pd.options.mode.chained_assignment = None  # not show dataframe copy slice warning\n",
    "pio.renderers.default = 'png'\n",
    "\n",
    "import dask\n",
    "import dask.dataframe as dd\n",
    "from dask.distributed import Client, LocalCluster\n",
    "\n",
    "from lib import shared_lib\n",
    "from shared_lib import data_processor\n",
    "from data_processor.lib.geocoding import GeoCoder\n",
    "from data_processor.lib.geolib_helper import get_shp_filepath, load_normalize_gov_shp_data\n",
    "\n",
    "from lib.plotly_helper import add_chart_title, add_chart_annotation\n",
    "from lib.display_helper import display_df\n",
    "\n",
    "# dask config\n",
    "cluster = LocalCluster(\n",
    "#     n_workers=os.cpu_count()  #  if want to setup number of worker\n",
    ")\n",
    "client = Client(cluster)\n",
    "\n",
    "# setup path\n",
    "ANALYSIS_NAME = 'taipei_passerby_buying_power'\n",
    "\n",
    "CURRENT_DIR = os.path.dirname(os.path.abspath('__file__'))\n",
    "BASE_DIR = os.path.dirname(CURRENT_DIR)\n",
    "ANALYSIS_DIR = os.path.join(BASE_DIR, 'analysis', ANALYSIS_NAME)\n",
    "\n",
    "# setup plotly default config\n",
    "plotly_default_config_chart = dict(\n",
    "    displayModeBar=True,\n",
    "    responsive=False,\n",
    "    modeBarButtonsToRemove=['zoomIn2d', 'zoomOut2d', 'select2d', 'lasso2d', 'toggleSpikelines'],\n",
    "    displaylogo=False\n",
    ")\n",
    "\n",
    "plotly_default_config_geo = dict(\n",
    "    displayModeBar=True,\n",
    "    responsive=False,\n",
    "    scrollZoom=False,\n",
    "    modeBarButtonsToRemove=['select2d', 'lasso2d'])"
   ]
  },
  {
   "cell_type": "markdown",
   "metadata": {
    "hideCode": true,
    "hidePrompt": true
   },
   "source": [
    "## Get average monthly based on living area\n",
    "We would use the tax data to geth monthly income for each passenger (based on living area). From the income, we would make dining out budget based on income."
   ]
  },
  {
   "cell_type": "code",
   "execution_count": null,
   "metadata": {
    "hideCode": true,
    "hidePrompt": true
   },
   "outputs": [],
   "source": [
    "# setup data source:\n",
    "data_dir = os.path.join(BASE_DIR, 'data')\n",
    "data_warehouse_dir = os.path.join(data_dir, 'normalized-data_warehouse')\n",
    "\n",
    "# - area dimension table\n",
    "area_dimension_table = pd.read_csv('../data/normalized-data_warehouse/area_dimension_table.csv')\n",
    "area_dimension_table = area_dimension_table.astype({'village_code':str})\n",
    "area_dimension_table.set_index('village_code', inplace=True)\n",
    "\n",
    "# - taipei area data, village detail\n",
    "village_shp_path = get_shp_filepath(os.path.join(BASE_DIR, 'data', 'taiwan_twd97_map_data_village'))\n",
    "village_gpd = load_normalize_gov_shp_data(village_shp_path)\n",
    "\n",
    "taipei_village_gpd = village_gpd[village_gpd['county_chinese_name'] == '臺北市']\n",
    "taipei_village_gpd.set_index('village_code', drop=False, inplace=True)\n",
    "\n",
    "taipei_village_gpd = pd.merge(\n",
    "    taipei_village_gpd, area_dimension_table[['township_english_name']],\n",
    "    left_index=True, right_index=True\n",
    ")\n",
    "\n",
    "# - taipei income data\n",
    "taipei_income_by_village_filepath = os.path.join(data_warehouse_dir, 'taipei_income_by_village.csv')\n",
    "taipei_income_by_village_df = pd.read_csv(taipei_income_by_village_filepath)\n",
    "taipei_income_by_village_df =\\\n",
    "    taipei_income_by_village_df[taipei_income_by_village_df['county_id']=='A']\n",
    "taipei_income_by_village_df =\\\n",
    "    taipei_income_by_village_df[~taipei_income_by_village_df['village_code'].isnull()]\n",
    "taipei_income_by_village_df = taipei_income_by_village_df.astype({'village_code':str})\n",
    "taipei_income_by_village_df['village_code'] =\\\n",
    "    taipei_income_by_village_df['village_code'].apply(lambda x: x.split('.')[0])\n",
    "taipei_income_by_village_df.set_index('village_code', inplace=True)\n",
    "\n",
    "display_df(taipei_income_by_village_df[['township_chinese_name',\n",
    "    'taxpayer', 'total_comprehensive_income']].reset_index())"
   ]
  },
  {
   "cell_type": "markdown",
   "metadata": {
    "hideCode": true,
    "hidePrompt": true
   },
   "source": [
    "### Compute dining out budget\n",
    "\n",
    "This is based on:\n",
    "- [Taipei news](https://www.taipeitimes.com/News/taiwan/archives/2018/09/04/2003699773) that said in 2018, on average Taiwanese income breakdown are: 15.6% for dining out.\n",
    "\n",
    "Therefore, to compute the passerby we use:\n",
    "\\begin{align}\n",
    "    \\textit{possible food budget percentage} &= \\textit{dining out budget percentage} \\\\\n",
    "    &= 15.6\\%\n",
    "\\end{align}"
   ]
  },
  {
   "cell_type": "code",
   "execution_count": null,
   "metadata": {
    "hideCode": true,
    "hidePrompt": true
   },
   "outputs": [],
   "source": [
    "taipei_village_gpd = pd.merge(taipei_village_gpd, taipei_income_by_village_df[['average']],\n",
    "         how='left', left_index=True, right_index=True)\n",
    "\n",
    "taipei_village_gpd['average'] = (taipei_village_gpd['average'] * 1000) / 12\n",
    "taipei_village_gpd.loc[taipei_village_gpd['average'].isnull(), 'average'] = 0\n",
    "taipei_village_gpd = taipei_village_gpd.rename(columns={'average':'monthly_average_income'})\n",
    "\n",
    "taipei_village_gpd['dining_out_average_monthly_budget'] =\\\n",
    "    taipei_village_gpd['monthly_average_income'] * 0.156\n",
    "\n",
    "taipei_village_gpd['dining_out_average_weekly_budget'] =\\\n",
    "    taipei_village_gpd['dining_out_average_monthly_budget'] / (30 / 7)\n",
    "\n",
    "taipei_village_gpd['dining_out_average_daily_budget'] =\\\n",
    "    taipei_village_gpd['dining_out_average_monthly_budget'] / 30"
   ]
  },
  {
   "cell_type": "markdown",
   "metadata": {
    "hideCode": true,
    "hidePrompt": true
   },
   "source": [
    "## Translate buying power from living area into activities area\n",
    "As we would use the passerby buying power based on activities area, therefore we would try to translate the buying power that based on living area into activities area."
   ]
  },
  {
   "cell_type": "code",
   "execution_count": null,
   "metadata": {
    "hideCode": true,
    "hidePrompt": true
   },
   "outputs": [],
   "source": [
    "# setup the data source\n",
    "data_dir = os.path.join(BASE_DIR, 'data')\n",
    "data_warehouse_dir = os.path.join(data_dir, 'normalized-data_warehouse')\n",
    "\n",
    "# - get area dimension table\n",
    "area_dimension_table = pd.read_csv('../data/normalized-data_warehouse/area_dimension_table.csv')\n",
    "area_dimension_table = area_dimension_table.astype({'village_code':str})\n",
    "area_dimension_table.set_index('village_code', inplace=True)\n",
    "\n",
    "# - taipei area data and taipei income data, from previous calculation\n",
    "taipei_village_gpd = taipei_village_gpd\n",
    "\n",
    "# - taipei_mrt_info\n",
    "taipei_mrt_info_dirpath = os.path.join(data_warehouse_dir, 'taipei_mrt_info')\n",
    "taipei_mrt_info_urlpath = os.path.join(taipei_mrt_info_dirpath, 'taipei_mrt_passenger_data_*.csv')\n",
    "\n",
    "source_df = dd.read_csv(\n",
    "    taipei_mrt_info_urlpath,\n",
    "    dtype={\n",
    "        'station_in_village_code':str,\n",
    "        'station_out_village_code':str\n",
    "    }\n",
    ")\n",
    "\n",
    "# - taipei village distance matrix\n",
    "taipei_village_distance_matrix_filepath =\\\n",
    "    os.path.join(data_warehouse_dir, 'taipei_village_centroid_distance_km_matrix.csv')\n",
    "taipei_village_distance_matrix_df = pd.read_csv(taipei_village_distance_matrix_filepath)\n",
    "taipei_village_distance_matrix_df.set_index('village_code', inplace=True)"
   ]
  },
  {
   "cell_type": "markdown",
   "metadata": {
    "hideCode": true,
    "hidePrompt": true
   },
   "source": [
    "### Demonstrate method\n",
    "We would use the MRT info data to the buying power translation process. We would simulate where does the passerby coming from portion from the MRT data, then later on we would also use the simulation of people walking data. Here how it kinda looks like (we use township level for visualization, but the real computation would be in village level detail)"
   ]
  },
  {
   "cell_type": "code",
   "execution_count": null,
   "metadata": {
    "hideCode": true,
    "hidePrompt": true
   },
   "outputs": [],
   "source": [
    "# get aggregate data\n",
    "df = source_df\n",
    "df = df[(df['time_period'] >= 6) & (df['time_period'] <= 11)]\n",
    "\n",
    "df = dd.merge(df, area_dimension_table['township_code'],\n",
    "             how='left', left_on='station_in_village_code', right_index=True)\n",
    "df = df.rename(columns={'township_code': 'station_in_township_code'})\n",
    "\n",
    "df = dd.merge(df, area_dimension_table['township_code'],\n",
    "             how='left', left_on='station_out_village_code', right_index=True)\n",
    "df = df.rename(columns={'township_code': 'station_out_township_code'})\n",
    "\n",
    "agg_df = df\\\n",
    "    .groupby(['station_in_township_code', 'station_out_township_code', 'date'])\\\n",
    "        ['person_times'].sum()\\\n",
    "    .reset_index()\n",
    "\n",
    "agg_df = agg_df\\\n",
    "    .groupby(['station_in_township_code', 'station_out_township_code'])\\\n",
    "        ['person_times'].mean()\\\n",
    "    .reset_index()\n",
    "\n",
    "_agg_df_right = agg_df\\\n",
    "    .groupby(['station_out_township_code'])['person_times']\\\n",
    "        .apply(lambda x: x / float(x.sum()), meta='float')\\\n",
    "    .reset_index(drop=True)\n",
    "_agg_df_right = _agg_df_right.rename('person_times')\n",
    "\n",
    "agg_df = dd.merge(agg_df[['station_in_township_code', 'station_out_township_code']], _agg_df_right,\n",
    "        left_index=True, right_index=True)\n",
    "\n",
    "taipei_mrt_passenger_come_from_agg = agg_df.compute()"
   ]
  },
  {
   "cell_type": "code",
   "execution_count": null,
   "metadata": {
    "hideCode": true,
    "hidePrompt": true
   },
   "outputs": [],
   "source": [
    "# prepare visualization data\n",
    "mrt_dimension_table_agg = area_dimension_table.groupby(\n",
    "    ['township_code', 'township_english_name', 'township_chinese_name']).count().index\n",
    "\n",
    "mrt_dimension_table_agg = pd.DataFrame(\n",
    "    list(mrt_dimension_table_agg), columns=mrt_dimension_table_agg.names)\n",
    "\n",
    "mrt_dimension_table_agg['sankey_index'] = range(len(mrt_dimension_table_agg))\n",
    "\n",
    "mrt_dimension_table_agg = mrt_dimension_table_agg.astype({'township_code':str})\n",
    "mrt_dimension_table_agg.set_index('township_code', inplace=True)\n",
    "\n",
    "# mapping the data\n",
    "taipei_mrt_passenger_come_from_agg = taipei_mrt_passenger_come_from_agg.astype({\n",
    "    'station_in_township_code':str,\n",
    "    'station_out_township_code':str\n",
    "})\n",
    "\n",
    "taipei_mrt_passenger_come_from_agg['station_in_sankey_index'] =\\\n",
    "    taipei_mrt_passenger_come_from_agg['station_in_township_code']\\\n",
    "        .apply(lambda x: mrt_dimension_table_agg.loc[str(x), 'sankey_index'])\n",
    "\n",
    "taipei_mrt_passenger_come_from_agg['station_out_sankey_index'] =\\\n",
    "    taipei_mrt_passenger_come_from_agg['station_out_township_code']\\\n",
    "        .apply(lambda x: mrt_dimension_table_agg.loc[str(x), 'sankey_index'])\n",
    "\n",
    "# use Zhongzheng (中正區), Taipei, as example\n",
    "sample_df = \\\n",
    "    taipei_mrt_passenger_come_from_agg\\\n",
    "        [taipei_mrt_passenger_come_from_agg['station_out_township_code']=='63000050']"
   ]
  },
  {
   "cell_type": "code",
   "execution_count": null,
   "metadata": {
    "hideCode": true,
    "hidePrompt": true
   },
   "outputs": [],
   "source": [
    "# draw sankey diagram\n",
    "fig = go.Figure()\n",
    "\n",
    "fig.add_trace(go.Sankey(\n",
    "    valueformat='.2f',\n",
    "    valuesuffix=' %',\n",
    "    node=dict(\n",
    "        label = mrt_dimension_table_agg.sort_values('sankey_index')['township_english_name'],\n",
    "        pad = 3,\n",
    "        thickness = 10,\n",
    "    ),\n",
    "    link=dict(\n",
    "        source = sample_df['station_in_sankey_index'],\n",
    "        target = sample_df['station_out_sankey_index'],\n",
    "        value = sample_df['person_times'].apply(lambda x: x * 100),\n",
    "        line = {'width':1}\n",
    "    )\n",
    "))\n",
    "\n",
    "fig.update_layout(\n",
    "    height=800,\n",
    ")\n",
    "\n",
    "add_chart_title(fig, 'Passerby percentage of Zhongzheng District come from')\n",
    "\n",
    "fig.update_layout(\n",
    "    title='We would compute the buying power of each area based on the source<br>'\n",
    "        '  below is one of the example of the destination-source breakdown',\n",
    "    margin={'t':150}\n",
    ")\n",
    "\n",
    "fig.show(config=plotly_default_config_chart)\n",
    "fig.write_image(os.path.join(ANALYSIS_DIR, 'derive_buying_power_method.png'))"
   ]
  },
  {
   "cell_type": "markdown",
   "metadata": {
    "hideCode": true,
    "hidePrompt": true
   },
   "source": [
    "### Get first simulation, based on MRT station out\n",
    "This is the first simulation, where we get the buying power for the passenger on each station (when coming outo)."
   ]
  },
  {
   "cell_type": "code",
   "execution_count": null,
   "metadata": {
    "hideCode": true,
    "hidePrompt": true
   },
   "outputs": [],
   "source": [
    "# save path\n",
    "data_mart_dir = os.path.join(BASE_DIR, 'data', 'aggregated-data_mart')\n",
    "save_taipei_passeryby_buying_power_filepath = os.path.join(data_mart_dir, ANALYSIS_NAME + '.csv')\n",
    "\n",
    "# data used for computation, beside filter hour, also filter non available income data\n",
    "\n",
    "available_station_in_village_code = set(list(\n",
    "    source_df.groupby('station_in_village_code')['station_in_village_code']\\\n",
    "    .count()\\\n",
    "    .compute()\\\n",
    "    .index\n",
    "))\n",
    "\n",
    "available_income_village_code = set(taipei_village_gpd[taipei_village_gpd['monthly_average_income'] > 0].index)\n",
    "used_data_village_in_code_set = available_station_in_village_code.intersection(available_income_village_code)\n",
    "\n",
    "df = source_df\n",
    "df = df[df['station_in_village_code'].isin(used_data_village_in_code_set)]\n",
    "df = df[(df['time_period'] >= 6) & (df['time_period'] <= 11)]\n",
    "\n",
    "agg_df = df\\\n",
    "    .groupby(['station_in_village_code', 'station_out_village_code', 'date'])\\\n",
    "        ['person_times'].sum()\\\n",
    "    .reset_index()\n",
    "\n",
    "agg_df = agg_df\\\n",
    "    .groupby(['station_in_village_code', 'station_out_village_code'])\\\n",
    "        ['person_times'].mean()\\\n",
    "    .reset_index()\n",
    "\n",
    "_agg_df_right = agg_df\\\n",
    "    .groupby(['station_out_village_code'])['person_times']\\\n",
    "        .apply(lambda x: x / float(x.sum()), meta='float')\\\n",
    "    .reset_index(drop=True)\n",
    "_agg_df_right = _agg_df_right.rename('person_times')\n",
    "\n",
    "agg_df = dd.merge(agg_df[['station_in_village_code', 'station_out_village_code']], _agg_df_right,\n",
    "        left_index=True, right_index=True)\n",
    "\n",
    "taipei_mrt_passenger_come_from = agg_df.compute()"
   ]
  },
  {
   "cell_type": "code",
   "execution_count": null,
   "metadata": {
    "hideCode": true,
    "hidePrompt": true
   },
   "outputs": [],
   "source": [
    "# make dictionary per village out, this normalized is a bit overkill because we did filter before,\n",
    "# but just a good data insanity check\n",
    "village_average_dining_out_weekly_budget_dict =\\\n",
    "    dict(taipei_village_gpd['dining_out_average_weekly_budget'])\n",
    "\n",
    "def dict_helper(lookup_dict: dict, key: any) -> any:\n",
    "    if key in lookup_dict:\n",
    "        return lookup_dict.get(key)\n",
    "    else:\n",
    "        return 0\n",
    "\n",
    "taipei_mrt_passenger_come_from['no_income_data'] = \\\n",
    "    taipei_mrt_passenger_come_from['station_in_village_code']\\\n",
    "        .apply(lambda x: 1 if x in village_average_dining_out_weekly_budget_dict else 0)\n",
    "\n",
    "taipei_mrt_passenger_come_from.groupby(['station_in_village_code', 'no_income_data'])\n",
    "\n",
    "_normalized_proportion = \\\n",
    "    taipei_mrt_passenger_come_from.groupby(['station_out_village_code', 'no_income_data'])['person_times'].sum().reset_index()\n",
    "_normalized_proportion = _normalized_proportion[_normalized_proportion['no_income_data']==1]\n",
    "normalized_proportion_dict = dict(zip(\n",
    "    _normalized_proportion['station_out_village_code'],\n",
    "    _normalized_proportion['person_times']\n",
    "))\n",
    "\n",
    "taipei_mrt_passenger_come_from['normalized_proportion'] = \\\n",
    "    taipei_mrt_passenger_come_from['station_out_village_code'].apply(lambda x: normalized_proportion_dict.get(x))\n",
    "\n",
    "taipei_mrt_passenger_come_from['dining_out_average_weekly_budget_part'] =\\\n",
    "    taipei_mrt_passenger_come_from\\\n",
    "        .apply(\n",
    "            lambda x: dict_helper(\n",
    "                village_average_dining_out_weekly_budget_dict,\n",
    "                str(x['station_in_village_code'])\n",
    "            ) * (x['person_times'] / x['normalized_proportion']),\n",
    "            axis=1\n",
    "        )\n",
    "\n",
    "per_passerby_dining_out_weekly_budget_dict = taipei_mrt_passenger_come_from\\\n",
    "    .groupby('station_out_village_code')['dining_out_average_weekly_budget_part'].sum().to_dict()"
   ]
  },
  {
   "cell_type": "markdown",
   "metadata": {
    "hideCode": true,
    "hidePrompt": true
   },
   "source": [
    "### Simulate the walking distribution\n",
    "\n",
    "This is the second translation, on each station we would simulate the walking point.\n",
    "\n",
    "Noted on distribution formula, based on passerby simulation formula, which are:\n",
    "\n",
    "- previous maximum determined radius, 2 km\n",
    "distribution function:\n",
    "\\begin{align}\n",
    "f(x) &= \\frac{3x^2}{10} - \\frac{17x}{6} +1\n",
    "\\end{align}\n",
    "with result no more than 1 or less than 0\n",
    "\n",
    "- from that, compute the passerby average weekly dining out budget proportionate to the final distributed portion of the value\n",
    "\\begin{align}\n",
    "    \\textit{passerby weekly dining out budget} _{final}&= {\\sum_{n=1}^{\\infty} f_2(f(x)) * \\textit{passerby weekly dining out budget}_{village\\ in}}\n",
    "\\end{align}\n",
    "\n",
    "with:\n",
    "\n",
    "$f_2(f(x)) = \\frac{f(x)}{\\sum_{n=1}^{\\infty}f(x)_n}$ if $\\textit{passerby}_{village\\ out}$ exist\n",
    "\n",
    "$f_2(f(x)) = \\frac{f(x)}{\\sum_{n=1}^{\\infty}f(x)_n - 1}$ if $\\textit{passerby}_{village\\ out}$ not exist"
   ]
  },
  {
   "cell_type": "code",
   "execution_count": null,
   "metadata": {
    "hideCode": true,
    "hidePrompt": true
   },
   "outputs": [],
   "source": [
    "# calculate simulation using the formula\n",
    "def distribution_function(x):\n",
    "    if x > 2:\n",
    "        return 0\n",
    "    elif x <= 0:\n",
    "        return 1\n",
    "    else:\n",
    "        fx = (3*(pow(x,2))/10) - ((7*x)/6) + 1.14\n",
    "        if fx > 1:\n",
    "            return 1\n",
    "        elif fx < 0:\n",
    "            return 0\n",
    "        else:\n",
    "            return fx\n",
    "        \n",
    "taipei_village_distance_matrix_df = taipei_village_distance_matrix_df\\\n",
    "    .applymap(lambda x: distribution_function(x))\n",
    "\n",
    "\n",
    "# this is to filter no data on passerngerby\n",
    "available_station_village_out_set = set(taipei_mrt_passenger_come_from['station_out_village_code'])\n",
    "\n",
    "taipei_village_distance_matrix_df = taipei_village_distance_matrix_df\\\n",
    "    .apply(lambda x: 0 * x if str(x.name) not in available_station_village_out_set else x, axis=1)\n",
    "\n",
    "# normalize the for not exist situation\n",
    "taipei_village_distance_matrix_sum = taipei_village_distance_matrix_df.sum()\n"
   ]
  },
  {
   "cell_type": "code",
   "execution_count": null,
   "metadata": {
    "hideCode": true,
    "hidePrompt": true
   },
   "outputs": [],
   "source": [
    "# # this is to make the total of proportion balance\n",
    "# for index, value in taipei_village_distance_matrix_sum.iteritems():\n",
    "#     if index not in available_village_out_set:\n",
    "#         taipei_village_distance_matrix_sum.loc[index] = value - 1\n",
    "\n",
    "\n",
    "distance_matrix_distribution_total_dict = taipei_village_distance_matrix_sum.to_dict()\n",
    "\n",
    "final_passerby_weekly_dining_out_budget_dict = {}\n",
    "for index, row in taipei_village_distance_matrix_df.iterrows():\n",
    "    _weekly_budget = dict_helper(per_passerby_dining_out_weekly_budget_dict, str(index))\n",
    "    _calculated_row = {}\n",
    "    for col_name, row_value in row.iteritems():\n",
    "        _total_dist_matrix = distance_matrix_distribution_total_dict.get(str(col_name))\n",
    "        if _total_dist_matrix and row_value and _weekly_budget:\n",
    "            _calculated_row_value = (row_value / _total_dist_matrix) * _weekly_budget\n",
    "            _calculated_row = {**_calculated_row, **{col_name: _calculated_row_value}}\n",
    "        else:\n",
    "            _calculated_row = {**_calculated_row, **{col_name: 0}}\n",
    "\n",
    "    final_passerby_weekly_dining_out_budget_dict = {\n",
    "        **final_passerby_weekly_dining_out_budget_dict,\n",
    "        **{index: _calculated_row}\n",
    "    }\n",
    "    \n",
    "final_passerby_weekly_dining_out_budget_df = \\\n",
    "    pd.DataFrame.from_dict(final_passerby_weekly_dining_out_budget_dict, orient='index')\n",
    "\n",
    "final_passerby_weekly_dining_out_budget_dict = final_passerby_weekly_dining_out_budget_df.sum().to_dict()"
   ]
  },
  {
   "cell_type": "markdown",
   "metadata": {
    "hideCode": true,
    "hidePrompt": true
   },
   "source": [
    "### Data visualization\n",
    "The final data looks like this"
   ]
  },
  {
   "cell_type": "code",
   "execution_count": null,
   "metadata": {
    "hideCode": true,
    "hidePrompt": true
   },
   "outputs": [],
   "source": [
    "# prepare map data\n",
    "taipei_village_geojson = json.loads(taipei_village_gpd.geometry.to_json())\n",
    "\n",
    "center_point = MultiPoint(taipei_village_gpd['geometry'].apply(lambda x: x.centroid)).centroid\n",
    "\n",
    "taipei_village_gpd['passerby_dining_out_weekly_budget'] =\\\n",
    "    taipei_village_gpd['village_code']\\\n",
    "        .apply(lambda x: dict_helper(final_passerby_weekly_dining_out_budget_dict, str(x)))\n",
    "\n",
    "taipei_village_gpd['passerby_dining_out_daily_budget'] = \\\n",
    "    taipei_village_gpd['passerby_dining_out_weekly_budget'] / 7\n",
    "\n",
    "taipei_village_gpd['passerby_dining_out_monthly_budget'] = \\\n",
    "    taipei_village_gpd['passerby_dining_out_weekly_budget'] * (30 / 7)\n",
    "\n",
    "# substitute zero data\n",
    "def if_zero_substitute(data_frame: pd.DataFrame, source_column: str, substitute_columns: str) -> None:\n",
    "    data_frame.loc[data_frame[source_column]==0, source_column] = \\\n",
    "        data_frame.loc[data_frame[source_column]==0, substitute_columns]\n",
    "\n",
    "if_zero_substitute(taipei_village_gpd, 'passerby_dining_out_monthly_budget', 'dining_out_average_monthly_budget')\n",
    "if_zero_substitute(taipei_village_gpd, 'passerby_dining_out_weekly_budget', 'dining_out_average_weekly_budget')\n",
    "if_zero_substitute(taipei_village_gpd, 'passerby_dining_out_daily_budget', 'dining_out_average_daily_budget')\n",
    "\n",
    "taipei_township_dining_out_budget_average = \\\n",
    "    taipei_village_gpd.groupby(['township_code', 'township_english_name'])['passerby_dining_out_daily_budget'].mean().reset_index()\n",
    "\n",
    "taipei_township_dining_out_budget_average = \\\n",
    "    taipei_township_dining_out_budget_average.sort_values('passerby_dining_out_daily_budget', ascending=False)\n",
    "\n",
    "save_df = taipei_village_gpd.loc[:,taipei_village_gpd.columns != 'geometry']\n",
    "save_df.to_csv(save_taipei_passeryby_buying_power_filepath, index=False)"
   ]
  },
  {
   "cell_type": "code",
   "execution_count": null,
   "metadata": {
    "hideCode": true,
    "hidePrompt": true,
    "scrolled": true
   },
   "outputs": [],
   "source": [
    "# draw first chart, map\n",
    "fig = px.choropleth_mapbox(taipei_village_gpd, geojson=taipei_village_geojson,\n",
    "                           locations='village_code',\n",
    "                           color='passerby_dining_out_daily_budget',\n",
    "                           hover_name='village_english_name',\n",
    "                           hover_data=['township_english_name'],\n",
    "                           labels={'township_english_name': 'Township English Name',\n",
    "                                   'passerby_dining_out_daily_budget': \"Passeryby dining out daily budget\"},\n",
    "                           color_continuous_scale='OrRd',\n",
    "                           range_color=(500,700),\n",
    "                           opacity=0.5,\n",
    "                           mapbox_style='carto-positron',\n",
    "                           center={'lon':center_point.x, 'lat':center_point.y},\n",
    "                           zoom=10\n",
    "                          )\n",
    "\n",
    "fig.update_traces(hovertemplate=fig['data'][-1]['hovertemplate']\\\n",
    "                  .replace('village_code=%{location}<br>','')\\\n",
    "                  .replace('=',' = ')\\\n",
    "                  .replace('{z}','{z:,.2r}')\n",
    "                 )\n",
    "\n",
    "add_chart_title(fig, \"Taipei color scale map based on simulated passerby average dining out budget\", 1.2)\n",
    "\n",
    "add_chart_annotation(fig, \n",
    "                     '<i>*do double click on map to reset position back to Taipei, '\n",
    "                     'zoom in / out with the button in the top right</i>')\n",
    "\n",
    "fig.update_layout(\n",
    "    title='Most weekly dining out budget for passerby is 600',\n",
    "    margin={'t':120},\n",
    "    height=700\n",
    ")\n",
    "\n",
    "fig.show(config=plotly_default_config_geo)\n",
    "fig.write_image(os.path.join(ANALYSIS_DIR, 'dining_out_budget_distribution-1.png'))\n",
    "\n",
    "# draw second chart, bar chart of average\n",
    "fig = px.bar(taipei_township_dining_out_budget_average,\n",
    "             x='township_english_name',\n",
    "             y='passerby_dining_out_daily_budget',\n",
    "             labels={'township_english_name': 'Township English Name',\n",
    "                     'passerby_dining_out_daily_budget': \"Passeryby dining out weekly budget\"})\n",
    "\n",
    "fig.update_layout(showlegend=False)\n",
    "fig.update_xaxes(fixedrange=True)\n",
    "fig.update_yaxes(fixedrange=True)\n",
    "\n",
    "add_chart_title(fig, 'Dining out budget average per township')\n",
    "\n",
    "fig.show(config=plotly_default_config_chart)\n",
    "fig.write_image(os.path.join(ANALYSIS_DIR, 'dining_out_budget_distribution-2.png'))"
   ]
  },
  {
   "cell_type": "markdown",
   "metadata": {
    "hideCode": true,
    "hidePrompt": true
   },
   "source": [
    "## Analysis\n",
    "Analysis from the information are:\n",
    "\n",
    "- **The buying power around Taipei are kinda the same.** It might have 5-15% difference among them.\n",
    "- **People in Taipei mid-east area have higher buying power.** Compare to other, it lead by some amount."
   ]
  }
 ],
 "metadata": {
  "hide_code_all_hidden": true,
  "kernelspec": {
   "display_name": "Python 3",
   "language": "python",
   "name": "python3"
  },
  "language_info": {
   "codemirror_mode": {
    "name": "ipython",
    "version": 3
   },
   "file_extension": ".py",
   "mimetype": "text/x-python",
   "name": "python",
   "nbconvert_exporter": "python",
   "pygments_lexer": "ipython3",
   "version": "3.8.5"
  },
  "toc": {
   "base_numbering": 1,
   "nav_menu": {},
   "number_sections": true,
   "sideBar": true,
   "skip_h1_title": false,
   "title_cell": "Table of Contents",
   "title_sidebar": "Contents",
   "toc_cell": false,
   "toc_position": {},
   "toc_section_display": true,
   "toc_window_display": true
  },
  "toc-autonumbering": true,
  "varInspector": {
   "cols": {
    "lenName": 16,
    "lenType": 16,
    "lenVar": 40
   },
   "kernels_config": {
    "python": {
     "delete_cmd_postfix": "",
     "delete_cmd_prefix": "del ",
     "library": "var_list.py",
     "varRefreshCmd": "print(var_dic_list())"
    },
    "r": {
     "delete_cmd_postfix": ") ",
     "delete_cmd_prefix": "rm(",
     "library": "var_list.r",
     "varRefreshCmd": "cat(var_dic_list()) "
    }
   },
   "types_to_exclude": [
    "module",
    "function",
    "builtin_function_or_method",
    "instance",
    "_Feature"
   ],
   "window_display": false
  }
 },
 "nbformat": 4,
 "nbformat_minor": 4
}
