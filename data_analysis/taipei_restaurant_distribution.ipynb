{
 "cells": [
  {
   "cell_type": "markdown",
   "metadata": {
    "hideCode": true,
    "hidePrompt": true
   },
   "source": [
    "# Taipei Restaurant Distribution\n",
    "We would also consider the competitor or other restaurant in each area. The data that we would use is:\n",
    "\n",
    "- **Use the travel network data from [gov site](https://data.gov.tw/) as sample**. The data contains 308 restaurant which we would use to simulate the real / population data.\n",
    "\n",
    "From the data, we would try to predict the real / population data, which we will do:\n",
    "- **Simulate based on all number of Restaurant in Taipei**. The detail of the data and statistical formula would is explained after this.\n",
    "- **Aggregate the data per village level**. We would have the number of restaurant per area in the end"
   ]
  },
  {
   "cell_type": "code",
   "execution_count": null,
   "metadata": {
    "hideCode": true,
    "hidePrompt": true
   },
   "outputs": [],
   "source": [
    "# initial setup, import packages, path, and config\n",
    "import json\n",
    "import os\n",
    "\n",
    "import geopandas as gpd\n",
    "import numpy as np\n",
    "import pandas as pd\n",
    "import plotly.express as px\n",
    "import plotly.graph_objects as go\n",
    "import plotly.io as pio\n",
    "from shapely.geometry import MultiPoint\n",
    "pd.options.mode.chained_assignment = None  # not show dataframe copy slice warning\n",
    "pio.renderers.default = 'png'\n",
    "\n",
    "from lib import shared_lib\n",
    "from shared_lib import data_processor\n",
    "from data_processor.lib.geocoding import GeoCoder\n",
    "from data_processor.lib.geolib_helper import get_shp_filepath, load_normalize_gov_shp_data\n",
    "\n",
    "from lib.plotly_helper import add_chart_title, add_chart_annotation\n",
    "from lib.display_helper import display_df\n",
    "\n",
    "# setup path\n",
    "ANALYSIS_NAME = 'taipei_restaurant_distribution'\n",
    "\n",
    "CURRENT_DIR = os.path.dirname(os.path.abspath('__file__'))\n",
    "BASE_DIR = os.path.dirname(CURRENT_DIR)\n",
    "ANALYSIS_DIR = os.path.join(BASE_DIR, 'analysis', ANALYSIS_NAME)\n",
    "\n",
    "# setup plotly default config\n",
    "plotly_default_config_chart = dict(\n",
    "    displayModeBar=True,\n",
    "    responsive=False,\n",
    "    modeBarButtonsToRemove=['zoomIn2d', 'zoomOut2d', 'select2d', 'lasso2d', 'toggleSpikelines'],\n",
    "    displaylogo=False\n",
    ")\n",
    "\n",
    "plotly_default_config_geo = dict(\n",
    "    displayModeBar=True,\n",
    "    responsive=False,\n",
    "    scrollZoom=False,\n",
    "    modeBarButtonsToRemove=['select2d', 'lasso2d'])"
   ]
  },
  {
   "cell_type": "markdown",
   "metadata": {
    "hideCode": true,
    "hidePrompt": true
   },
   "source": [
    "## Simulate real / population restaurant data in Taipei\n",
    "We would build assumption and data based on:\n",
    "\n",
    "- **Real / population restaurant number.** From the data, we would know how much we should simulate the sample data.\n",
    "- **Sampling simulation formula.** We would make some probability formula that would fit our use case.\n",
    "\n",
    "Therefore what we would do would be:\n",
    "\n",
    "- **Get the sample-to-population ratio.**\n",
    "- **Set some probability simulation formula**.\n",
    "- **Simulate real / population data**\n"
   ]
  },
  {
   "cell_type": "code",
   "execution_count": null,
   "metadata": {
    "hideCode": true,
    "hidePrompt": true
   },
   "outputs": [],
   "source": [
    "# setup data\n",
    "# - area dimension table\n",
    "area_dimension_table = pd.read_csv('../data/normalized-data_warehouse/area_dimension_table.csv')\n",
    "area_dimension_table = area_dimension_table.astype({'village_code':str})\n",
    "area_dimension_table.set_index('village_code', inplace=True)\n",
    "\n",
    "# - taipei area data, village detail\n",
    "village_shp_path = get_shp_filepath(os.path.join(BASE_DIR, 'data', 'taiwan_twd97_map_data_village'))\n",
    "village_gpd = load_normalize_gov_shp_data(village_shp_path)\n",
    "\n",
    "taipei_village_gpd = village_gpd[village_gpd['county_chinese_name'] == '臺北市']\n",
    "taipei_village_gpd.set_index('village_code', drop=False, inplace=True)\n",
    "\n",
    "taipei_village_gpd = pd.merge(\n",
    "    taipei_village_gpd, area_dimension_table[['township_english_name']],\n",
    "    left_index=True, right_index=True\n",
    ")\n",
    "\n",
    "# - restaurant sample data\n",
    "taipei_network_restaurant_data = pd.read_csv('../data/taipei_travel_network/structured/taipei_travel_network.csv')"
   ]
  },
  {
   "cell_type": "markdown",
   "metadata": {
    "hideCode": true,
    "hidePrompt": true
   },
   "source": [
    "### Used initial data\n",
    "The real data contains more information, but for this analysis we heuristically would use restaurant coordinate data"
   ]
  },
  {
   "cell_type": "code",
   "execution_count": null,
   "metadata": {
    "hideCode": true,
    "hidePrompt": true
   },
   "outputs": [],
   "source": [
    "display_df(taipei_network_restaurant_data[['name', 'longitude', 'latitude']])"
   ]
  },
  {
   "cell_type": "markdown",
   "metadata": {
    "hideCode": true,
    "hidePrompt": true
   },
   "source": [
    "### Setting sample-to-population multiplier\n",
    "\n",
    "Some fact that we would use are:\n",
    "- [World Cities Culture Forum](http://www.worldcitiescultureforum.com/data/number-of-restaurants-per-100.000-population) show us in 2017 Taipei number of restaurant per 100,000 population is 307.6\n",
    "- [Goverment data](https://english.gov.taipei/cp.aspx?n=C619997124A6D293) show that Taipei population in 2016 was 2,695,704 people\n",
    "\n",
    "Therefore we would use this assumption:\n",
    "- Current sample data distribution represent all of the population data (this is a bit heuristic and not really accurate, but for this case we would like to have a ballpark)\n",
    "\n",
    "Therefore we would use this sample-to-population multiplier formula\n",
    "\\begin{align}\n",
    "    \\textit{sample-to-population multiplier} &= \\left( \\frac{\\textit{Taipei population}}{100\\,000} * 307.6 \\right) \\bigg/ \\textit{Total sample data}\\\\\n",
    "\\end{align}\n",
    "\n",
    "The calculation above would **26.92**. So we would make the sample data **27** times larger to simulate the population data."
   ]
  },
  {
   "cell_type": "markdown",
   "metadata": {
    "hideCode": true,
    "hidePrompt": true
   },
   "source": [
    "### Make the distribution formula\n",
    "As our data sample is a bit specific and might not represent the real data, we try to create wider distribution. In this case, we would use radius limit of 5 km (1 point in lat/long coordinate is about 111 km), it would be rarely pass 5 km limit although it is possible. Therefore the distribution formula that we would use is exponential, which is:\n",
    "\\begin{align}\n",
    "    f(x; \\frac{1}{\\beta}) = \\left( \\frac{1}{\\beta} \\exp(-\\frac{x}{\\beta}) \\bigg/ 5 \\right) * \\textit{max radius level}\n",
    "\\end{align}\n",
    "with:\n",
    "- x > 0\n",
    "- ${\\beta}$ = 1.5\n",
    "- make possibility into two identitcal side (negative / positive)\n",
    "\n",
    "Therefore, the final formula would be\n",
    "\\begin{align}\n",
    "    \\textit{new data}_{longitude} &= (\\textit{sample data}_{longitude}) + \\frac{f(x)}{111}\\\\\n",
    "    \\textit{new data}_{latitude} &= (\\textit{sample data}_{latitude}) + \\frac{f(x)}{111}\\\\\n",
    "\\end{align}\n",
    "And we would make duplicate the data by 27 times using the formula"
   ]
  },
  {
   "cell_type": "code",
   "execution_count": null,
   "metadata": {
    "hideCode": true,
    "hidePrompt": true
   },
   "outputs": [],
   "source": [
    "def dist_delta_function(max_value: float = 5):\n",
    "    delta = np.random.exponential(1.5)\n",
    "    if np.random.rand() >= 0.5:\n",
    "        delta = delta * -1\n",
    "        \n",
    "    return (delta / 5) * max_value\n",
    "\n",
    "hist_data = [dist_delta_function(5) for _ in range(1000)]\n",
    "\n",
    "fig = px.histogram(x=hist_data)\n",
    "fig.update_xaxes(range=[-10,10])\n",
    "\n",
    "fig.update_traces(\n",
    "    marker=dict(\n",
    "        line={'width':1, 'color':'white'}))\n",
    "\n",
    "add_chart_title(fig, 'histogram of how the f(x) / the distribution function on 1000 data')\n",
    "\n",
    "fig.show(config=plotly_default_config_chart)\n",
    "fig.write_image(os.path.join(ANALYSIS_DIR, 'distribution_delta_function_probability.png'))"
   ]
  },
  {
   "cell_type": "markdown",
   "metadata": {
    "hideCode": true,
    "hidePrompt": true
   },
   "source": [
    "### Data visualization\n",
    "With processing the input data with the above formula, we would have the simulation like this."
   ]
  },
  {
   "cell_type": "code",
   "execution_count": null,
   "metadata": {
    "hideCode": true,
    "hidePrompt": true
   },
   "outputs": [],
   "source": [
    "sample_multiplier = 27\n",
    "\n",
    "# generate the distribution sample data\n",
    "def generate_new_long_lat(long_lat_dict: dict, rand_radius: float = 1) -> dict:\n",
    "    new_long = long_lat_dict.get('longitude') + (dist_delta_function(5) /111)\n",
    "    new_lat = long_lat_dict.get('latitude') + (dist_delta_function(5) /111)\n",
    "    return {'longitude':new_long, 'latitude':new_lat}\n",
    "\n",
    "sample_data_coordinate = []\n",
    "simulated_restaurant_coordinate = []\n",
    "for long, lat in zip(taipei_network_restaurant_data['longitude'], taipei_network_restaurant_data['latitude']):\n",
    "    _sample_coordinate = {'longitude': long, 'latitude': lat}\n",
    "    sample_data_coordinate.append(_sample_coordinate)\n",
    "    for _ in range(sample_multiplier-1):\n",
    "        simulated_restaurant_coordinate.append(generate_new_long_lat(_sample_coordinate))"
   ]
  },
  {
   "cell_type": "code",
   "execution_count": null,
   "metadata": {
    "hideCode": true,
    "hidePrompt": true
   },
   "outputs": [],
   "source": [
    "# prepare area data\n",
    "taipei_village_geojson = json.loads(taipei_village_gpd.geometry.to_json())\n",
    "\n",
    "center_point = MultiPoint(taipei_village_gpd['geometry'].apply(lambda x: x.centroid)).centroid"
   ]
  },
  {
   "cell_type": "code",
   "execution_count": null,
   "metadata": {
    "hideCode": true,
    "hidePrompt": true
   },
   "outputs": [],
   "source": [
    "# plot the main graph\n",
    "fig = px.choropleth_mapbox(taipei_village_gpd, geojson=taipei_village_geojson,\n",
    "                           locations='village_code',\n",
    "                           hover_name='village_english_name',\n",
    "                           hover_data=['village_chinese_name', 'township_chinese_name'],\n",
    "                           labels={'village_chinese_name': 'Village Chinese Name',\n",
    "                                   'township_chinese_name': 'Township Chinese Name'},\n",
    "                           opacity=0.3,\n",
    "                           mapbox_style='carto-positron',\n",
    "                           center={'lon':center_point.x, 'lat':center_point.y},\n",
    "                           zoom=10)\n",
    "\n",
    "fig.update_traces(dict(\n",
    "                    name='Taipei area',\n",
    "                    hovertemplate=fig['data'][-1]['hovertemplate']\\\n",
    "                        .replace('<br>village_code=%{location}<br>','')\\\n",
    "                        .replace('=', ' = ')))\n",
    "\n",
    "fig.add_trace(go.Scattermapbox(\n",
    "                name='Simulated restaurant data',\n",
    "                lon=list(map(lambda x: x.get('longitude'), simulated_restaurant_coordinate)),\n",
    "                lat=list(map(lambda x: x.get('latitude'), simulated_restaurant_coordinate)),\n",
    "                marker=dict(\n",
    "                  color='yellow',\n",
    "                  size=3,\n",
    "                  sizemode='area',\n",
    "                  opacity=0.5\n",
    "                ),\n",
    "))\n",
    "\n",
    "fig.add_trace(go.Scattermapbox(\n",
    "                name='Real original sample data',\n",
    "                lon=list(map(lambda x: x.get('longitude'), sample_data_coordinate)),\n",
    "                lat=list(map(lambda x: x.get('latitude'), sample_data_coordinate)),\n",
    "                marker=dict(\n",
    "                  color='red',\n",
    "                  size=3,\n",
    "                  sizemode='area',\n",
    "                  opacity=0.5\n",
    "                ),\n",
    "#                 customdata=taipei_mrt_map_df['station_name'],\n",
    "#                 hovertemplate='Station Chinese Name = %{customdata}'\n",
    "))\n",
    "\n",
    "add_chart_title(fig, 'Taipei shop distribution simulation', 1.2)\n",
    "\n",
    "add_chart_annotation(fig, \n",
    "                     '<i>*do double click on map to reset position back to Taipei, '\n",
    "                     'zoom in / out with the button in the top right</i>')\n",
    "\n",
    "fig.update_layout(dict(\n",
    "    legend={'traceorder': 'reversed'}\n",
    "))\n",
    "\n",
    "fig.update_layout(dict(\n",
    "    title=dict(\n",
    "        text=\"Most restaurant is on mid-west side of Taipei\",\n",
    "        yanchor='top',\n",
    "        yref='container', y=0.9,\n",
    "    ),\n",
    "    margin={'t':150},\n",
    "    height=700\n",
    "))\n",
    "\n",
    "fig.show(config=plotly_default_config_geo)\n",
    "fig.write_image(os.path.join(ANALYSIS_DIR, 'taipei_restaurant_distribution_simulation.png'))"
   ]
  },
  {
   "cell_type": "markdown",
   "metadata": {
    "hideCode": true,
    "hidePrompt": true
   },
   "source": [
    "## Get per area data\n",
    "To make the clearer analysis, we would aggregate the restaurant into per village area."
   ]
  },
  {
   "cell_type": "code",
   "execution_count": null,
   "metadata": {
    "hideCode": true,
    "hidePrompt": true
   },
   "outputs": [],
   "source": [
    "# get output filepath data\n",
    "data_mart_dir = os.path.join(BASE_DIR, 'data', 'aggregated-data_mart')\n",
    "save_taipei_restaurant_distribution_filepath = os.path.join(data_mart_dir, ANALYSIS_NAME+'.csv')\n",
    "\n",
    "# setup data\n",
    "# - get area data, same as previous\n",
    "taipei_village_gpd = taipei_village_gpd\n",
    "\n",
    "# - get geo coder class\n",
    "geo_coder = GeoCoder(village_shp_path, taipei_only=True)\n",
    "\n",
    "simulated_restauran_coordinate_df = pd.DataFrame(simulated_restaurant_coordinate)\n",
    "sample_restaurant_coordinate_df = pd.DataFrame(sample_data_coordinate)\n",
    "\n",
    "# - get restaurant coordinate\n",
    "restaurant_coordinate_df = pd.concat(\n",
    "    [simulated_restauran_coordinate_df, sample_restaurant_coordinate_df])\n",
    "restaurant_coordinate_df.reset_index(drop=True, inplace=True)"
   ]
  },
  {
   "cell_type": "markdown",
   "metadata": {
    "hideCode": true,
    "hidePrompt": true
   },
   "source": [
    "### Map data inside the village area\n",
    "We would fit the coordinate of the restaurant data into the our geo coder. Our geo coder use the mapping coordinate system that is the same with the government data."
   ]
  },
  {
   "cell_type": "code",
   "execution_count": null,
   "metadata": {
    "hideCode": true,
    "hidePrompt": true
   },
   "outputs": [],
   "source": [
    "# put area data into the map\n",
    "# geocoding restaurant coordinate\n",
    "lat_long_village_code_dict = geo_coder.long_lat_tuple_to_dict_multiprocessing(\n",
    "    zip(restaurant_coordinate_df['longitude'], restaurant_coordinate_df['latitude'])\n",
    ")\n",
    "\n",
    "restaurant_coordinate_df['village_code'] = restaurant_coordinate_df \\\n",
    "    .apply(lambda x: lat_long_village_code_dict.get((x['longitude'], x['latitude'])), axis=1)\n",
    "\n",
    "restaurant_coordinate_df[restaurant_coordinate_df['village_code'].isnull()]\n",
    "\n",
    "restaurant_coordinate_agg_village = \\\n",
    "    restaurant_coordinate_df.groupby('village_code')['village_code'].count()\n",
    "restaurant_coordinate_agg_village.rename('restaurant_count', inplace=True)\n",
    "restaurant_coordinate_agg_village_df = pd.DataFrame(restaurant_coordinate_agg_village)\n",
    "\n",
    "taipei_village_gpd = pd.merge(taipei_village_gpd, restaurant_coordinate_agg_village,\n",
    "         how='left', left_index=True, right_index=True)\n",
    "\n",
    "taipei_village_gpd['restaurant_count'].fillna(0, inplace=True)\n",
    "taipei_village_gpd = taipei_village_gpd.astype({'restaurant_count':int})"
   ]
  },
  {
   "cell_type": "markdown",
   "metadata": {
    "hideCode": true,
    "hidePrompt": true
   },
   "source": [
    "### Data table"
   ]
  },
  {
   "cell_type": "code",
   "execution_count": null,
   "metadata": {
    "hideCode": true,
    "hidePrompt": true
   },
   "outputs": [],
   "source": [
    "display_df(taipei_village_gpd[['village_english_name', 'township_english_name', 'restaurant_count']].reset_index())"
   ]
  },
  {
   "cell_type": "markdown",
   "metadata": {
    "hideCode": true,
    "hidePrompt": true
   },
   "source": [
    "### Data Visualization\n",
    "Here how the data looks like"
   ]
  },
  {
   "cell_type": "code",
   "execution_count": null,
   "metadata": {
    "hideCode": true,
    "hidePrompt": true
   },
   "outputs": [],
   "source": [
    "# prepare area data\n",
    "taipei_village_geojson = json.loads(taipei_village_gpd.geometry.to_json())\n",
    "center_point = MultiPoint(taipei_village_gpd['geometry'].apply(lambda x: x.centroid)).centroid\n",
    "\n",
    "taipei_township_restaurant_agg = taipei_village_gpd.groupby(['township_code', 'township_english_name'])['restaurant_count'].sum().reset_index()\n",
    "\n",
    "taipei_township_restaurant_agg.sort_values('restaurant_count', ascending=False, inplace=True)\n",
    "\n",
    "save_df = taipei_village_gpd.loc[:, taipei_village_gpd.columns != 'geometry']\n",
    "save_df.to_csv(save_taipei_restaurant_distribution_filepath, index=False)"
   ]
  },
  {
   "cell_type": "code",
   "execution_count": null,
   "metadata": {
    "hideCode": true,
    "hidePrompt": true
   },
   "outputs": [],
   "source": [
    "# draw first chart the map\n",
    "fig = px.choropleth_mapbox(taipei_village_gpd, geojson=taipei_village_geojson,\n",
    "                           locations='village_code',\n",
    "                           color='restaurant_count',\n",
    "                           hover_name='village_english_name',\n",
    "                           hover_data=['township_english_name'],\n",
    "                           labels={'township_english_name': 'Township English Name',\n",
    "                                   'restaurant_count': 'Restaurant Count'},\n",
    "                           color_continuous_scale='OrRd',\n",
    "                           range_color=(0,100),\n",
    "                           opacity=0.5,\n",
    "                           mapbox_style='carto-positron',\n",
    "                           center={'lon':center_point.x, 'lat':center_point.y},\n",
    "                           zoom=10)\n",
    "\n",
    "fig.update_traces(hovertemplate=fig['data'][-1]['hovertemplate']\\\n",
    "                  .replace('village_code=%{location}<br>','')\\\n",
    "                  .replace('=',' = ')\\\n",
    "                  .replace('{z}','{z:,.2r}')\n",
    "                 )\n",
    "\n",
    "add_chart_annotation(fig, \n",
    "                     '<i>*do double click on map to reset position back to Taipei, '\n",
    "                     'zoom in / out with the button in the top right</i>')\n",
    "\n",
    "fig.update_layout(\n",
    "    title='There is lots of reastaurant on mid-west area of Taipei',\n",
    "    margin={'t':120},\n",
    "    height=700\n",
    ")\n",
    "\n",
    "fig.show(config=plotly_default_config_geo)\n",
    "fig.write_image(os.path.join(ANALYSIS_DIR, 'taipei_restaurant_distribution-1.png'))\n",
    "\n",
    "# draw second chart, top 5 bar chart\n",
    "fig = px.bar(taipei_village_gpd,\n",
    "             x='township_english_name',\n",
    "             y='restaurant_count',\n",
    "             labels={\n",
    "                 'township_english_name': 'Township English Name',\n",
    "                 'restaurant_count': 'Restaurant Count',\n",
    "                 'village_chinese_name': 'Village Chinese Name'\n",
    "             },\n",
    "             color='village_chinese_name')\n",
    "\n",
    "fig.update_traces(hovertemplate=fig['data'][-1]['hovertemplate']\\\n",
    "                  .replace('=',' = ')\\\n",
    "                 )\n",
    "\n",
    "fig.update_traces(marker={'color': 'blue'})\n",
    "                  \n",
    "fig.update_xaxes(categoryorder='array', \n",
    "                 categoryarray=taipei_township_restaurant_agg['township_english_name'])\n",
    "\n",
    "fig.update_layout(showlegend=False)\n",
    "fig.update_xaxes(fixedrange=True)\n",
    "fig.update_yaxes(fixedrange=True)\n",
    "\n",
    "add_chart_title(fig, \"Simulated restaurant count, stacked per township, parted per village\", 2)\n",
    "\n",
    "fig.show(config=plotly_default_config_chart)\n",
    "fig.write_image(os.path.join(ANALYSIS_DIR, 'taipei_restaurant_distribution-2.png'))"
   ]
  },
  {
   "cell_type": "markdown",
   "metadata": {
    "hideCode": true,
    "hidePrompt": true
   },
   "source": [
    "## Analysis\n",
    "Analysis about the restaurant in Taipei are:\n",
    "\n",
    "- **The competition in Taipei mid-west area is pretty rough.** On average there are twice as much as restaurant compare to the other area."
   ]
  }
 ],
 "metadata": {
  "hide_code_all_hidden": true,
  "kernelspec": {
   "display_name": "Python 3",
   "language": "python",
   "name": "python3"
  },
  "language_info": {
   "codemirror_mode": {
    "name": "ipython",
    "version": 3
   },
   "file_extension": ".py",
   "mimetype": "text/x-python",
   "name": "python",
   "nbconvert_exporter": "python",
   "pygments_lexer": "ipython3",
   "version": "3.8.5"
  },
  "toc": {
   "base_numbering": 1,
   "nav_menu": {},
   "number_sections": true,
   "sideBar": true,
   "skip_h1_title": false,
   "title_cell": "Table of Contents",
   "title_sidebar": "Contents",
   "toc_cell": false,
   "toc_position": {},
   "toc_section_display": true,
   "toc_window_display": true
  },
  "toc-autonumbering": true,
  "varInspector": {
   "cols": {
    "lenName": 16,
    "lenType": 16,
    "lenVar": 40
   },
   "kernels_config": {
    "python": {
     "delete_cmd_postfix": "",
     "delete_cmd_prefix": "del ",
     "library": "var_list.py",
     "varRefreshCmd": "print(var_dic_list())"
    },
    "r": {
     "delete_cmd_postfix": ") ",
     "delete_cmd_prefix": "rm(",
     "library": "var_list.r",
     "varRefreshCmd": "cat(var_dic_list()) "
    }
   },
   "types_to_exclude": [
    "module",
    "function",
    "builtin_function_or_method",
    "instance",
    "_Feature"
   ],
   "window_display": false
  }
 },
 "nbformat": 4,
 "nbformat_minor": 4
}
